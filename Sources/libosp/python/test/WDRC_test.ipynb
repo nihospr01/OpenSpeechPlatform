{
 "cells": [
  {
   "cell_type": "markdown",
   "id": "9c4cf859",
   "metadata": {},
   "source": [
    "# WDRC Test\n",
    "\n",
    "In this example, a test signal is injected into the magnitude stage,\n",
    "bypassing the filter bank and hilbert transform stages.\n",
    "This example is useful for testing WDRC, in particular the\n",
    "attack/release times.\n",
    "\n",
    "This verifies and reproduces the Matlab test script main_wdrc_test.m"
   ]
  },
  {
   "cell_type": "code",
   "execution_count": 1,
   "id": "ebaecfed",
   "metadata": {},
   "outputs": [
    {
     "data": {
      "text/html": [
       "<style>.container { width:100% !important; }</style>"
      ],
      "text/plain": [
       "<IPython.core.display.HTML object>"
      ]
     },
     "metadata": {},
     "output_type": "display_data"
    }
   ],
   "source": [
    "# make Jupyter use the whole width of the browser\n",
    "from IPython.display import Image, display, HTML\n",
    "display(HTML(\"<style>.container { width:100% !important; }</style>\"))"
   ]
  },
  {
   "cell_type": "code",
   "execution_count": 2,
   "id": "complete-consortium",
   "metadata": {},
   "outputs": [],
   "source": [
    "import sys\n",
    "sys.path.append('..')"
   ]
  },
  {
   "cell_type": "code",
   "execution_count": 3,
   "id": "forty-connection",
   "metadata": {},
   "outputs": [],
   "source": [
    "import numpy as np\n",
    "from scipy.io import loadmat, savemat\n",
    "from rtmha.elevenband import Wdrc11\n",
    "import plotly.graph_objects as go"
   ]
  },
  {
   "cell_type": "code",
   "execution_count": 4,
   "id": "recreational-tourist",
   "metadata": {},
   "outputs": [],
   "source": [
    "# get the results from main_wdrc_test.m\n",
    "res = loadmat('../test/wdrc_test_out.mat')"
   ]
  },
  {
   "cell_type": "code",
   "execution_count": 5,
   "id": "desirable-scanner",
   "metadata": {},
   "outputs": [],
   "source": [
    "step = res['step'].T"
   ]
  },
  {
   "cell_type": "code",
   "execution_count": 6,
   "id": "greatest-marijuana",
   "metadata": {},
   "outputs": [],
   "source": [
    "g50 = 30*np.ones(11)\n",
    "g80 = 10*np.ones(11)\n",
    "kneelow = 45*np.ones(11)\n",
    "mpo = 100*np.ones(11)\n",
    "AT = 5*np.ones(11)\n",
    "RT = 50*np.ones(11)\n",
    "rate = np.array([1/16, 1/16, 1/16, 1/8, 1/8, 1/4, 1/4, 1/2, 1/2, 1, 1])\n",
    "fs = 32000\n",
    "L = 350\n",
    "cal_mic = np.zeros(11)\n",
    "cal_rec = np.zeros(11)"
   ]
  },
  {
   "cell_type": "code",
   "execution_count": 7,
   "id": "adopted-father",
   "metadata": {},
   "outputs": [],
   "source": [
    "w = Wdrc11(g50, g80, kneelow, mpo, AT, RT, cal_mic, cal_rec, len(step[10][0][0]), True, True)"
   ]
  },
  {
   "cell_type": "code",
   "execution_count": null,
   "id": "entertaining-roads",
   "metadata": {},
   "outputs": [],
   "source": [
    "w.get_param()"
   ]
  },
  {
   "cell_type": "code",
   "execution_count": 8,
   "id": "4afe132b",
   "metadata": {},
   "outputs": [],
   "source": [
    "m, b, c, kneeup, alpha1, alpha2 = w.get_param_test()"
   ]
  },
  {
   "cell_type": "code",
   "execution_count": 9,
   "id": "found-indie",
   "metadata": {},
   "outputs": [
    {
     "data": {
      "text/plain": [
       "False"
      ]
     },
     "execution_count": 9,
     "metadata": {},
     "output_type": "execute_result"
    }
   ],
   "source": [
    "# check alpha1 for matlab and c++\n",
    "np.allclose(alpha1, res['alpha1'][0], rtol=1e-4)"
   ]
  },
  {
   "cell_type": "code",
   "execution_count": 10,
   "id": "blocked-cassette",
   "metadata": {},
   "outputs": [
    {
     "data": {
      "text/plain": [
       "False"
      ]
     },
     "execution_count": 10,
     "metadata": {},
     "output_type": "execute_result"
    }
   ],
   "source": [
    "# check alpha2 for matlab and c++\n",
    "np.allclose(alpha2, res['alpha2'][0], rtol=1e-4)"
   ]
  },
  {
   "cell_type": "code",
   "execution_count": 11,
   "id": "outer-petroleum",
   "metadata": {},
   "outputs": [
    {
     "name": "stdout",
     "output_type": "stream",
     "text": [
      "True\n",
      "True\n",
      "False\n",
      "False\n"
     ]
    }
   ],
   "source": [
    "# verify other parameters are the same\n",
    "print(np.allclose(b, res['b'][0], rtol=1e-4))\n",
    "print(np.allclose(c, res['c'][0], rtol=1e-4))\n",
    "print(np.allclose(m, res['m'][0], rtol=1e-4))\n",
    "print(np.allclose(kneeup, res['kneeup'][0], rtol=1e-4))"
   ]
  },
  {
   "cell_type": "code",
   "execution_count": 12,
   "id": "850f3533",
   "metadata": {},
   "outputs": [
    {
     "data": {
      "text/plain": [
       "31622.776601683792"
      ]
     },
     "execution_count": 12,
     "metadata": {},
     "output_type": "execute_result"
    }
   ],
   "source": [
    "max(step[10][0][0])"
   ]
  },
  {
   "cell_type": "code",
   "execution_count": 13,
   "id": "998b246f",
   "metadata": {},
   "outputs": [
    {
     "data": {
      "text/plain": [
       "90.0"
      ]
     },
     "execution_count": 13,
     "metadata": {},
     "output_type": "execute_result"
    }
   ],
   "source": [
    "20*np.log10(31622.776601683792)"
   ]
  },
  {
   "cell_type": "markdown",
   "id": "technological-finnish",
   "metadata": {},
   "source": [
    "If the above all passed then WDRC init is OK."
   ]
  },
  {
   "cell_type": "code",
   "execution_count": 14,
   "id": "upper-hollywood",
   "metadata": {
    "scrolled": false
   },
   "outputs": [
    {
     "ename": "TypeError",
     "evalue": "_agc() takes exactly 12 positional arguments (10 given)",
     "output_type": "error",
     "traceback": [
      "\u001b[0;31m---------------------------------------------------------------------------\u001b[0m",
      "\u001b[0;31mTypeError\u001b[0m                                 Traceback (most recent call last)",
      "\u001b[0;32m<ipython-input-14-72ea5954ce00>\u001b[0m in \u001b[0;36m<module>\u001b[0;34m\u001b[0m\n\u001b[1;32m      6\u001b[0m     \u001b[0mmag\u001b[0m \u001b[0;34m=\u001b[0m \u001b[0mstep\u001b[0m\u001b[0;34m[\u001b[0m\u001b[0mi\u001b[0m\u001b[0;34m]\u001b[0m\u001b[0;34m[\u001b[0m\u001b[0;36m0\u001b[0m\u001b[0;34m]\u001b[0m\u001b[0;34m[\u001b[0m\u001b[0;36m0\u001b[0m\u001b[0;34m]\u001b[0m\u001b[0;34m\u001b[0m\u001b[0;34m\u001b[0m\u001b[0m\n\u001b[1;32m      7\u001b[0m     \u001b[0mw\u001b[0m\u001b[0;34m.\u001b[0m\u001b[0mset_A\u001b[0m\u001b[0;34m(\u001b[0m\u001b[0mi\u001b[0m\u001b[0;34m,\u001b[0m \u001b[0mB1\u001b[0m \u001b[0;34m-\u001b[0m \u001b[0;36m55\u001b[0m\u001b[0;34m)\u001b[0m\u001b[0;34m\u001b[0m\u001b[0;34m\u001b[0m\u001b[0m\n\u001b[0;32m----> 8\u001b[0;31m     \u001b[0mgain\u001b[0m \u001b[0;34m=\u001b[0m \u001b[0mw\u001b[0m\u001b[0;34m.\u001b[0m\u001b[0m_agc\u001b[0m\u001b[0;34m(\u001b[0m\u001b[0mmag\u001b[0m\u001b[0;34m,\u001b[0m \u001b[0mw\u001b[0m\u001b[0;34m.\u001b[0m\u001b[0mA\u001b[0m\u001b[0;34m[\u001b[0m\u001b[0mi\u001b[0m\u001b[0;34m]\u001b[0m\u001b[0;34m,\u001b[0m \u001b[0mkneelow\u001b[0m\u001b[0;34m[\u001b[0m\u001b[0mi\u001b[0m\u001b[0;34m]\u001b[0m\u001b[0;34m,\u001b[0m \u001b[0mkneeup\u001b[0m\u001b[0;34m[\u001b[0m\u001b[0mi\u001b[0m\u001b[0;34m]\u001b[0m\u001b[0;34m,\u001b[0m \u001b[0;36m100.0\u001b[0m\u001b[0;34m,\u001b[0m \u001b[0mm\u001b[0m\u001b[0;34m[\u001b[0m\u001b[0mi\u001b[0m\u001b[0;34m]\u001b[0m\u001b[0;34m,\u001b[0m \u001b[0mb\u001b[0m\u001b[0;34m[\u001b[0m\u001b[0mi\u001b[0m\u001b[0;34m]\u001b[0m\u001b[0;34m,\u001b[0m \u001b[0mc\u001b[0m\u001b[0;34m[\u001b[0m\u001b[0mi\u001b[0m\u001b[0;34m]\u001b[0m\u001b[0;34m,\u001b[0m \u001b[0malpha1\u001b[0m\u001b[0;34m[\u001b[0m\u001b[0mi\u001b[0m\u001b[0;34m]\u001b[0m\u001b[0;34m,\u001b[0m \u001b[0malpha2\u001b[0m\u001b[0;34m[\u001b[0m\u001b[0mi\u001b[0m\u001b[0;34m]\u001b[0m\u001b[0;34m)\u001b[0m\u001b[0;34m\u001b[0m\u001b[0;34m\u001b[0m\u001b[0m\n\u001b[0m\u001b[1;32m      9\u001b[0m \u001b[0;34m\u001b[0m\u001b[0m\n\u001b[1;32m     10\u001b[0m     \u001b[0mfig\u001b[0m \u001b[0;34m=\u001b[0m \u001b[0mgo\u001b[0m\u001b[0;34m.\u001b[0m\u001b[0mFigure\u001b[0m\u001b[0;34m(\u001b[0m\u001b[0;34m)\u001b[0m\u001b[0;34m\u001b[0m\u001b[0;34m\u001b[0m\u001b[0m\n",
      "\u001b[0;32m~/eleven/libosp/python/rtmha/elevenband.pyx\u001b[0m in \u001b[0;36mrtmha.elevenband.Wdrc11._agc\u001b[0;34m()\u001b[0m\n\u001b[1;32m    268\u001b[0m         \u001b[0;32mreturn\u001b[0m \u001b[0ma\u001b[0m\u001b[0;34m\u001b[0m\u001b[0;34m\u001b[0m\u001b[0m\n\u001b[1;32m    269\u001b[0m \u001b[0;34m\u001b[0m\u001b[0m\n\u001b[0;32m--> 270\u001b[0;31m     cpdef _agc(self, np.ndarray inp, float &A, float kneelow, float kneeup, float mpo, float m,\n\u001b[0m\u001b[1;32m    271\u001b[0m             float b, float c, float alpha1, float alpha2, float cal_mic, float cal_rec):\n\u001b[1;32m    272\u001b[0m         \u001b[0;32mif\u001b[0m \u001b[0minp\u001b[0m\u001b[0;34m.\u001b[0m\u001b[0mdtype\u001b[0m \u001b[0;34m!=\u001b[0m \u001b[0mnp\u001b[0m\u001b[0;34m.\u001b[0m\u001b[0mfloat32\u001b[0m\u001b[0;34m:\u001b[0m\u001b[0;34m\u001b[0m\u001b[0;34m\u001b[0m\u001b[0m\n",
      "\u001b[0;31mTypeError\u001b[0m: _agc() takes exactly 12 positional arguments (10 given)"
     ]
    }
   ],
   "source": [
    "interactive=True\n",
    "\n",
    "for i in range(11):\n",
    "    B1 = w.B1[i]\n",
    "    B2 = w.B2[i]\n",
    "    mag = step[i][0][0]\n",
    "    w.set_A(i, B1 - 55)\n",
    "    gain = w._agc(mag, w.A[i], kneelow[i], kneeup[i], 100.0, m[i], b[i], c[i], alpha1[i], alpha2[i])\n",
    "\n",
    "    fig = go.Figure()\n",
    "    # plot((0:1000/(fs*rate(i)):L-1000/(fs*rate(i))), 20*log10(magnitude.*gain),'r', 'linewidth', 2)\n",
    "    period = 1000/(fs*rate[i])\n",
    "    x = np.arange(0, L, period)\n",
    "    y = 20*np.log10(mag*gain)\n",
    "    fig.add_trace(go.Scatter(x=x, \n",
    "                        y=y,\n",
    "                        line={'color':'red'},\n",
    "                        opacity=.8,         \n",
    "                        name='Output Magnitude'))\n",
    "    fig.add_trace(go.Scatter(x=x, \n",
    "                        y=20*np.log10(mag),\n",
    "                        line={'color':'blue'},\n",
    "                        opacity=.8,         \n",
    "                        name='Input Magnitude'))\n",
    "    fig.add_hline(y=B2+3, line_dash=\"solid\", line_color=\"green\", opacity=.5, annotation_text=\"+3dB of Desired Level\")\n",
    "    fig.add_hline(y=B1-4, line_dash=\"solid\", line_color=\"magenta\", opacity=.5, annotation_text=\"-4dB of Desired Level\")\n",
    "    fig.add_hline(y=B1, line_dash=\"dash\", line_color=\"black\", opacity=.5, annotation_text=\"Desired Level\")\n",
    "    fig.add_hline(y=B2, line_dash=\"dash\", line_color=\"black\", opacity=.5, annotation_text=\"Desired Level\")\n",
    "    fig.add_vline(x=50+AT[i], line_dash=\"solid\", line_color=\"green\", opacity=.5)\n",
    "    fig.add_vline(x=100+RT[i], line_dash=\"solid\", line_color=\"magenta\", opacity=.5)\n",
    "    fig.update_layout(title=f'Verifying Attack/Release Time: Band={i} AT={AT[i]}, RT={RT[i]}',\n",
    "                        xaxis_title='Time(ms)',\n",
    "                        yaxis_title='Log Mag (dB)',\n",
    "                        template='plotly_white')\n",
    "    if interactive:\n",
    "        fig.show()        \n",
    "    else:\n",
    "        fig.write_image(f\"wdrc{i}.png\", engine=\"kaleido\")\n",
    "        display(Image(f\"wdrc{i}.png\", width=4096))\n"
   ]
  },
  {
   "cell_type": "code",
   "execution_count": null,
   "id": "1c37798e",
   "metadata": {},
   "outputs": [],
   "source": []
  },
  {
   "cell_type": "code",
   "execution_count": null,
   "id": "bb2d9a38",
   "metadata": {},
   "outputs": [],
   "source": []
  }
 ],
 "metadata": {
  "kernelspec": {
   "display_name": "Python 3",
   "language": "python",
   "name": "python3"
  },
  "language_info": {
   "codemirror_mode": {
    "name": "ipython",
    "version": 3
   },
   "file_extension": ".py",
   "mimetype": "text/x-python",
   "name": "python",
   "nbconvert_exporter": "python",
   "pygments_lexer": "ipython3",
   "version": "3.8.10"
  }
 },
 "nbformat": 4,
 "nbformat_minor": 5
}
