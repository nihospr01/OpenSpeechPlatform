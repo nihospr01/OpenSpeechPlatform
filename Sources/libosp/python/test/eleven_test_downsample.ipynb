{
 "cells": [
  {
   "cell_type": "code",
   "execution_count": null,
   "id": "impressed-graphics",
   "metadata": {},
   "outputs": [],
   "source": [
    "import numpy as np\n",
    "from mlab import test_downsample, plot_response, generate_sine_waves, plot_fft"
   ]
  },
  {
   "cell_type": "code",
   "execution_count": null,
   "id": "objective-inspection",
   "metadata": {},
   "outputs": [],
   "source": [
    "min_phase = 0  # Set to '1' for minimum phase, set to '0' for linear phase\n",
    "\n",
    "# impulse test\n",
    "inp = np.zeros(2048)\n",
    "inp[0] = 1"
   ]
  },
  {
   "cell_type": "code",
   "execution_count": null,
   "id": "confident-civilian",
   "metadata": {},
   "outputs": [],
   "source": [
    "impulse = test_downsample(inp, min_phase)"
   ]
  },
  {
   "cell_type": "code",
   "execution_count": null,
   "id": "d9ea6ec8",
   "metadata": {},
   "outputs": [],
   "source": [
    "output = impulse['output'][0]"
   ]
  },
  {
   "cell_type": "code",
   "execution_count": null,
   "id": "imperial-quantum",
   "metadata": {},
   "outputs": [],
   "source": [
    "_, inp = generate_sine_waves([100], .01)"
   ]
  },
  {
   "cell_type": "code",
   "execution_count": null,
   "id": "115968f6",
   "metadata": {},
   "outputs": [],
   "source": [
    "resp = test_downsample(inp, min_phase)"
   ]
  },
  {
   "cell_type": "code",
   "execution_count": null,
   "id": "81d28697",
   "metadata": {},
   "outputs": [],
   "source": [
    "output = resp['output'][0]"
   ]
  },
  {
   "cell_type": "code",
   "execution_count": null,
   "id": "5de3736c",
   "metadata": {},
   "outputs": [],
   "source": [
    "import plotly.graph_objects as go\n",
    "\n",
    "fig = go.Figure()\n",
    "\n",
    "# Create x values. 32 samples per millisecond\n",
    "x = np.array(range(len(inp)))/32.0\n",
    "\n",
    "fig.add_trace(go.Scatter(x=x,\n",
    "                y=inp,\n",
    "                opacity=.5,\n",
    "                mode='markers',\n",
    "                name='input'))\n",
    "\n",
    "fig.add_trace(go.Scatter(x=x*2,\n",
    "                y=output,\n",
    "                opacity=.5,\n",
    "                mode='markers',\n",
    "                name='output'))\n",
    "\n",
    "fig.update_layout(title='Downsampling',\n",
    "                xaxis_title='Time(ms)',\n",
    "                yaxis_title='Output',\n",
    "                template='plotly_dark')\n",
    "fig.show()"
   ]
  },
  {
   "cell_type": "code",
   "execution_count": null,
   "id": "08a90cce",
   "metadata": {},
   "outputs": [],
   "source": [
    "import sys\n",
    "sys.path.append('..')"
   ]
  },
  {
   "cell_type": "code",
   "execution_count": null,
   "id": "9cee35d3",
   "metadata": {},
   "outputs": [],
   "source": [
    "from rtmha.elevenband import ElevenBand"
   ]
  },
  {
   "cell_type": "code",
   "execution_count": null,
   "id": "716a7348",
   "metadata": {},
   "outputs": [],
   "source": [
    "_, inp = generate_sine_waves([100], .1)"
   ]
  },
  {
   "cell_type": "code",
   "execution_count": null,
   "id": "b99ba037",
   "metadata": {},
   "outputs": [],
   "source": [
    "eb = ElevenBand(len(inp), True, True)\n",
    "eb.create_bands(inp)"
   ]
  },
  {
   "cell_type": "code",
   "execution_count": null,
   "id": "67bfbc4d",
   "metadata": {},
   "outputs": [],
   "source": [
    "output = eb.get_dband(0)"
   ]
  },
  {
   "cell_type": "code",
   "execution_count": null,
   "id": "7458928c",
   "metadata": {},
   "outputs": [],
   "source": [
    "fig = go.Figure()\n",
    "\n",
    "# Create x values. 32 samples per millisecond\n",
    "x = np.array(range(len(inp)))/32.0\n",
    "\n",
    "fig.add_trace(go.Scatter(x=x,\n",
    "                y=inp,\n",
    "                opacity=.5,\n",
    "                mode='markers',\n",
    "                name='input'))\n",
    "\n",
    "fig.add_trace(go.Scatter(x=x*16,\n",
    "                y=output/16,\n",
    "                opacity=.5,\n",
    "                mode='markers',\n",
    "                name='output'))\n",
    "\n",
    "fig.update_layout(title='Downsampling',\n",
    "                xaxis_title='Time(ms)',\n",
    "                yaxis_title='Output',\n",
    "                template='plotly_dark')\n",
    "fig.show()"
   ]
  },
  {
   "cell_type": "code",
   "execution_count": null,
   "id": "3c4c0112",
   "metadata": {},
   "outputs": [],
   "source": [
    "eb.upsample()\n",
    "output = eb.get_band(0)"
   ]
  },
  {
   "cell_type": "code",
   "execution_count": null,
   "id": "5011e7c2",
   "metadata": {},
   "outputs": [],
   "source": [
    "fig = go.Figure()\n",
    "\n",
    "# Create x values. 32 samples per millisecond\n",
    "x = np.array(range(len(inp)))/32.0\n",
    "\n",
    "fig.add_trace(go.Scatter(x=x,\n",
    "                y=inp,\n",
    "                opacity=.5,\n",
    "                mode='markers',\n",
    "                name='input'))\n",
    "\n",
    "fig.add_trace(go.Scatter(x=x,\n",
    "                y=output,\n",
    "                opacity=.5,\n",
    "                mode='markers',\n",
    "                name='output'))\n",
    "\n",
    "fig.update_layout(title='Downsampling',\n",
    "                xaxis_title='Time(ms)',\n",
    "                yaxis_title='Output',\n",
    "                template='plotly_dark')\n",
    "fig.show()"
   ]
  },
  {
   "cell_type": "code",
   "execution_count": null,
   "id": "9f739034",
   "metadata": {},
   "outputs": [],
   "source": []
  }
 ],
 "metadata": {
  "kernelspec": {
   "display_name": "Python 3",
   "language": "python",
   "name": "python3"
  },
  "language_info": {
   "codemirror_mode": {
    "name": "ipython",
    "version": 3
   },
   "file_extension": ".py",
   "mimetype": "text/x-python",
   "name": "python",
   "nbconvert_exporter": "python",
   "pygments_lexer": "ipython3",
   "version": "3.8.10"
  }
 },
 "nbformat": 4,
 "nbformat_minor": 5
}
