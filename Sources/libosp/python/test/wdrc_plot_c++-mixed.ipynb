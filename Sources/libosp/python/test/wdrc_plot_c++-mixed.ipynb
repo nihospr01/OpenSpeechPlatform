{
 "cells": [
  {
   "cell_type": "markdown",
   "id": "e5f2c301",
   "metadata": {},
   "source": [
    "# Testing WDRC With Mixed SIgnal C++ and Matlab\n",
    "\n",
    "## Summary - Near Perfect Match\n",
    "\n",
    "As close as can be with c++ using 32-bit floats."
   ]
  },
  {
   "cell_type": "code",
   "execution_count": null,
   "id": "30105ae4",
   "metadata": {},
   "outputs": [],
   "source": [
    "# make Jupyter use the whole width of the browser\n",
    "from IPython.display import Image, display, HTML\n",
    "display(HTML(\"<style>.container { width:100% !important; }</style>\"))"
   ]
  },
  {
   "cell_type": "code",
   "execution_count": null,
   "id": "1ebd8d7e",
   "metadata": {},
   "outputs": [],
   "source": [
    "import sys\n",
    "sys.path.append('..')"
   ]
  },
  {
   "cell_type": "code",
   "execution_count": null,
   "id": "impressed-graphics",
   "metadata": {},
   "outputs": [],
   "source": [
    "import numpy as np\n",
    "from mlab import call_matlab, generate_sine_waves, plot_fft\n",
    "from rtmha.elevenband import Wdrc11\n",
    "import plotly.graph_objects as go"
   ]
  },
  {
   "cell_type": "code",
   "execution_count": null,
   "id": "d8594847",
   "metadata": {},
   "outputs": [],
   "source": [
    "# interactive must be False to create PDF output\n",
    "interactive = False\n",
    "\n",
    "def plot_response(title, output, B1, B2, AT=None, RT=None):\n",
    "    fig = go.Figure()\n",
    "\n",
    "    # Create x values. 32 samples per millisecond\n",
    "    x = np.array(range(len(output)))/32.0\n",
    "\n",
    "    fig.add_trace(go.Scatter(x=x, \n",
    "                y=output, \n",
    "                opacity=.5))\n",
    "\n",
    "    fig.update_layout(title=title,\n",
    "                    xaxis_title='Time(ms)',\n",
    "                    yaxis_title='Output',\n",
    "                    template='plotly_white')\n",
    "    fig.add_hline(y=B1, line_dash=\"dash\", line_color=\"black\", opacity=.5, annotation_text=\"Desired Level\")\n",
    "    fig.add_hline(y=B2, line_dash=\"dash\", line_color=\"black\", opacity=.5, annotation_text=\"Desired Level\")\n",
    "    if AT:\n",
    "        fig.add_vline(x=AT, line_dash=\"solid\", line_color=\"green\", opacity=.5)\n",
    "    if RT:\n",
    "        fig.add_vline(x=RT, line_dash=\"solid\", line_color=\"green\", opacity=.5)\n",
    "    if interactive:\n",
    "        fig.show()        \n",
    "    else:\n",
    "        fig.write_image(\"temp.png\", engine=\"kaleido\")\n",
    "        display(Image(\"temp.png\", width=4096))\n",
    "\n",
    "def plot_response2(title, out1, lab1, out2, lab2, B1=None, B2=None, AT=None, RT=None):\n",
    "    fig = go.Figure()\n",
    "\n",
    "    # Create x values. 32 samples per millisecond\n",
    "    x = np.array(range(len(out1)))/32.0\n",
    "\n",
    "    fig.add_trace(go.Scatter(x=x, \n",
    "                y=out1,\n",
    "                name=lab1,\n",
    "                opacity=.5))\n",
    "    fig.add_trace(go.Scatter(x=x, \n",
    "                y=out2,\n",
    "                name=lab2,\n",
    "                opacity=.5))\n",
    "    fig.update_layout(title=title,\n",
    "                    xaxis_title='Time(ms)',\n",
    "                    yaxis_title='Output',\n",
    "                    template='plotly_white')\n",
    "    if B1:\n",
    "        fig.add_hline(y=B1, line_dash=\"dash\", line_color=\"black\", opacity=.5, annotation_text=\"Desired Level\")\n",
    "    if B2:\n",
    "        fig.add_hline(y=B2, line_dash=\"dash\", line_color=\"black\", opacity=.5, annotation_text=\"Desired Level\")\n",
    "    if AT:\n",
    "        fig.add_vline(x=AT, line_dash=\"solid\", line_color=\"green\", opacity=.5)\n",
    "    if RT:\n",
    "        fig.add_vline(x=RT, line_dash=\"solid\", line_color=\"green\", opacity=.5)\n",
    "    if interactive:\n",
    "        fig.show()        \n",
    "    else:\n",
    "        fig.write_image(\"temp.png\", engine=\"kaleido\")\n",
    "        display(Image(\"temp.png\", width=4096))\n"
   ]
  },
  {
   "cell_type": "code",
   "execution_count": null,
   "id": "objective-inspection",
   "metadata": {},
   "outputs": [],
   "source": [
    "g50 = np.ones(11) * 30\n",
    "g80 = np.ones(11) * 10\n",
    "kneelow = np.ones(11) * 45\n",
    "band_mpo = np.ones(11) * 100\n",
    "AT = np.ones(11) * 10\n",
    "RT = np.ones(11) * 100"
   ]
  },
  {
   "cell_type": "code",
   "execution_count": null,
   "id": "norman-update",
   "metadata": {},
   "outputs": [],
   "source": [
    "min_phase=1\n",
    "align=1\n",
    "\n",
    "# Mixed signal for 200ms at 32K sampling rate\n",
    "_, inp = generate_sine_waves([200, 1000, 5000], .2)\n",
    "\n",
    "# set to 55dB except the interval [50-100]ms\n",
    "inp[0:1600] *= 10**(55/20)\n",
    "inp[1600:3200] *= 10**(90/20)\n",
    "inp[3200:-1] *= 10**(55/20)"
   ]
  },
  {
   "cell_type": "code",
   "execution_count": null,
   "id": "6c8d3e9f",
   "metadata": {},
   "outputs": [],
   "source": [
    "from scipy.signal import hilbert\n",
    "analytic_signal = hilbert(inp)\n",
    "amp = np.abs(analytic_signal)\n",
    "\n",
    "# check input signal \n",
    "plot_response('Input (55db except for 90db for 50ms)', 20*np.log10(amp), 55, 90)"
   ]
  },
  {
   "cell_type": "code",
   "execution_count": null,
   "id": "confident-civilian",
   "metadata": {},
   "outputs": [],
   "source": [
    "w = Wdrc11(g50, g80, kneelow, band_mpo, AT, RT, len(inp), min_phase, align)\n",
    "out_all = w.wdrc(inp)"
   ]
  },
  {
   "cell_type": "code",
   "execution_count": null,
   "id": "a69d8d46",
   "metadata": {
    "scrolled": false
   },
   "outputs": [],
   "source": [
    "# Compare with Matlab\n",
    "res = call_matlab(min_phase, align, inp, g50, g80, kneelow, band_mpo, AT, RT)"
   ]
  },
  {
   "cell_type": "code",
   "execution_count": null,
   "id": "42034858",
   "metadata": {
    "scrolled": false
   },
   "outputs": [],
   "source": [
    "# check all the bands\n",
    "for i in range(11):\n",
    "    analytic_signal = hilbert(res['output'][i])\n",
    "    m = np.abs(analytic_signal)\n",
    "    analytic_signal = hilbert(w.get_band(i))\n",
    "    c = np.abs(analytic_signal)\n",
    "    plot_response2(f'Band {i}', 20*np.log10(m), 'Matlab', 20*np.log10(c), 'C++', w.B1[10], w.B2[10], 60, 200)"
   ]
  },
  {
   "cell_type": "code",
   "execution_count": null,
   "id": "9a896c18",
   "metadata": {},
   "outputs": [],
   "source": [
    "all_mlab = res['output'][0]\n",
    "for i in range(1,11):\n",
    "    all_mlab += res['output'][i]\n",
    "    \n",
    "analytic_signal = hilbert(all_mlab)\n",
    "m = np.abs(analytic_signal)\n",
    "analytic_signal = hilbert(out_all)\n",
    "c = np.abs(analytic_signal)\n",
    "plot_response2(f'All Bands', 20*np.log10(m), 'Matlab', 20*np.log10(c), 'C++', w.B1[10], w.B2[10], 60, 200)"
   ]
  }
 ],
 "metadata": {
  "kernelspec": {
   "display_name": "Python 3",
   "language": "python",
   "name": "python3"
  },
  "language_info": {
   "codemirror_mode": {
    "name": "ipython",
    "version": 3
   },
   "file_extension": ".py",
   "mimetype": "text/x-python",
   "name": "python",
   "nbconvert_exporter": "python",
   "pygments_lexer": "ipython3",
   "version": "3.8.10"
  }
 },
 "nbformat": 4,
 "nbformat_minor": 5
}
