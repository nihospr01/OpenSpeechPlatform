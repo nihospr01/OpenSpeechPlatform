{
 "cells": [
  {
   "cell_type": "markdown",
   "id": "ae64f351",
   "metadata": {},
   "source": [
    "# Matlab Test of 11-Band\n",
    "\n",
    "Calls the Matlab reference code and plots the results in a notebook"
   ]
  },
  {
   "cell_type": "code",
   "execution_count": null,
   "id": "impressed-graphics",
   "metadata": {},
   "outputs": [],
   "source": [
    "import numpy as np\n",
    "from mlab import call_matlab, plot_response, generate_sine_waves, plot_fft"
   ]
  },
  {
   "cell_type": "code",
   "execution_count": null,
   "id": "objective-inspection",
   "metadata": {},
   "outputs": [],
   "source": [
    "min_phase = 1  # Set to '1' for minimum phase, set to '0' for linear phase\n",
    "align = 1      # Set to '1' for aligned impulse responses, set to '0' for unaligned\n",
    "\n",
    "# impulse test\n",
    "inp = np.zeros(2048)\n",
    "inp[0] = 1\n",
    "\n",
    "g50 = np.zeros(11)\n",
    "g80 = np.zeros(11)\n",
    "kneelow = np.zeros(11)\n",
    "band_mpo = np.ones(11) * 1000\n",
    "AT = np.ones(11)\n",
    "RT = np.ones(11)"
   ]
  },
  {
   "cell_type": "code",
   "execution_count": null,
   "id": "confident-civilian",
   "metadata": {},
   "outputs": [],
   "source": [
    "impulse = call_matlab(min_phase, align, inp, g50, g80, kneelow, band_mpo, AT, RT)\n",
    "\n"
   ]
  },
  {
   "cell_type": "code",
   "execution_count": null,
   "id": "bibliographic-transparency",
   "metadata": {},
   "outputs": [],
   "source": [
    "plot_response('Impulse Response by Band (min_phase=1, align=1)', impulse['output'])"
   ]
  },
  {
   "cell_type": "code",
   "execution_count": null,
   "id": "binding-apache",
   "metadata": {
    "scrolled": false
   },
   "outputs": [],
   "source": [
    "align=0\n",
    "min_phase=1\n",
    "impulse = call_matlab(min_phase, align, inp, g50, g80, kneelow, band_mpo, AT, RT)\n",
    "plot_response('Impulse Response by Band (min_phase=1, align=0)', impulse['output'])"
   ]
  },
  {
   "cell_type": "code",
   "execution_count": null,
   "id": "controlled-connecticut",
   "metadata": {
    "scrolled": false
   },
   "outputs": [],
   "source": [
    "align=1\n",
    "min_phase=0\n",
    "impulse = call_matlab(min_phase, align, inp, g50, g80, kneelow, band_mpo, AT, RT)\n",
    "plot_response('Impulse Response by Band (min_phase=0, align=1)', impulse['output'])\n",
    "impulse['output'][10].shape"
   ]
  },
  {
   "cell_type": "code",
   "execution_count": null,
   "id": "d77bacf7",
   "metadata": {},
   "outputs": [],
   "source": [
    "impulse['output'][0].shape"
   ]
  },
  {
   "cell_type": "code",
   "execution_count": null,
   "id": "6a90e966",
   "metadata": {},
   "outputs": [],
   "source": [
    "inp.shape"
   ]
  },
  {
   "cell_type": "code",
   "execution_count": null,
   "id": "united-albany",
   "metadata": {
    "scrolled": false
   },
   "outputs": [],
   "source": [
    "align=0\n",
    "min_phase=0\n",
    "impulse = call_matlab(min_phase, align, inp, g50, g80, kneelow, band_mpo, AT, RT)\n",
    "plot_response('Impulse Response by Band (min_phase=0, align=0)', impulse['output'])\n",
    "impulse['output'][10].shape"
   ]
  },
  {
   "cell_type": "markdown",
   "id": "threaded-shirt",
   "metadata": {},
   "source": [
    "## Test Single Sine Input Matching Filter"
   ]
  },
  {
   "cell_type": "code",
   "execution_count": null,
   "id": "norman-update",
   "metadata": {},
   "outputs": [],
   "source": [
    "min_phase=1\n",
    "align=1\n",
    "_, inp = generate_sine_waves([2000])\n",
    "X = call_matlab(min_phase, align, inp, g50, g80, kneelow, band_mpo, AT, RT)\n",
    "plot_response('Response by Band (2000)', X['output'])"
   ]
  },
  {
   "cell_type": "markdown",
   "id": "informed-palestine",
   "metadata": {},
   "source": [
    "## Test Single Sine Input Between Filters"
   ]
  },
  {
   "cell_type": "code",
   "execution_count": null,
   "id": "amended-graphics",
   "metadata": {},
   "outputs": [],
   "source": [
    "min_phase=1\n",
    "align=1\n",
    "_, inp = generate_sine_waves([1600])\n",
    "X = call_matlab(min_phase, align, inp, g50, g80, kneelow, band_mpo, AT, RT)\n",
    "plot_response('Response by Band (1600)', X['output'])"
   ]
  },
  {
   "cell_type": "markdown",
   "id": "threatened-statistics",
   "metadata": {},
   "source": [
    "## Three Input Frequencies"
   ]
  },
  {
   "cell_type": "code",
   "execution_count": null,
   "id": "excellent-chicago",
   "metadata": {
    "scrolled": false
   },
   "outputs": [],
   "source": [
    "min_phase=1\n",
    "align=1\n",
    "_, inp = generate_sine_waves([300, 800, 8000])\n",
    "X = call_matlab(min_phase, align, inp, g50, g80, kneelow, band_mpo, AT, RT)\n",
    "plot_response('Response by Band (300, 800, 8000)', X['output'])"
   ]
  },
  {
   "cell_type": "code",
   "execution_count": null,
   "id": "federal-apparel",
   "metadata": {
    "scrolled": false
   },
   "outputs": [],
   "source": [
    "plot_fft('Input Frequency Response', inp)"
   ]
  },
  {
   "cell_type": "code",
   "execution_count": null,
   "id": "confused-background",
   "metadata": {
    "scrolled": false
   },
   "outputs": [],
   "source": [
    "plot_fft('Output Frequency Response', np.sum(X['output'], axis=0))"
   ]
  },
  {
   "cell_type": "markdown",
   "id": "physical-surge",
   "metadata": {},
   "source": [
    "## Change Band MPO"
   ]
  },
  {
   "cell_type": "code",
   "execution_count": null,
   "id": "grand-juvenile",
   "metadata": {},
   "outputs": [],
   "source": [
    "_, inp = generate_sine_waves([250])\n",
    "X = call_matlab(min_phase, align, inp, g50, g80, kneelow, band_mpo, AT, RT)\n",
    "plot_response('Response by Band (250)', X['output'])"
   ]
  },
  {
   "cell_type": "code",
   "execution_count": null,
   "id": "improving-promotion",
   "metadata": {},
   "outputs": [],
   "source": [
    "plot_fft('Output Frequency Response', np.sum(X['output'], axis=0))"
   ]
  },
  {
   "cell_type": "code",
   "execution_count": null,
   "id": "persistent-ready",
   "metadata": {},
   "outputs": [],
   "source": [
    "band_mpo[0] = 30\n",
    "X = call_matlab(min_phase, align, inp, g50, g80, kneelow, band_mpo, AT, RT)\n",
    "plot_response('Response by Band (250 MPO=30)', X['output'])"
   ]
  },
  {
   "cell_type": "code",
   "execution_count": null,
   "id": "southeast-giving",
   "metadata": {},
   "outputs": [],
   "source": [
    "band_mpo[0] = 20\n",
    "X = call_matlab(min_phase, align, inp, g50, g80, kneelow, band_mpo, AT, RT)\n",
    "plot_response('Response by Band (250 MPO=20)', X['output'])"
   ]
  },
  {
   "cell_type": "code",
   "execution_count": null,
   "id": "collect-investor",
   "metadata": {},
   "outputs": [],
   "source": [
    "band_mpo[0] = 10\n",
    "X = call_matlab(min_phase, align, inp, g50, g80, kneelow, band_mpo, AT, RT)\n",
    "plot_response('Response by Band (250 MPO=10)', X['output'])"
   ]
  },
  {
   "cell_type": "code",
   "execution_count": null,
   "id": "legislative-attendance",
   "metadata": {},
   "outputs": [],
   "source": [
    "_, inp = generate_sine_waves([250, 354, 500])\n",
    "X = call_matlab(min_phase, align, inp, g50, g80, kneelow, band_mpo, AT, RT)\n",
    "plot_response('Response by Band (first 3 bands)', X['output'])"
   ]
  },
  {
   "cell_type": "code",
   "execution_count": null,
   "id": "specific-football",
   "metadata": {},
   "outputs": [],
   "source": [
    "band_mpo = np.ones(11) * 100\n",
    "band_mpo[1] = 0\n",
    "X = call_matlab(min_phase, align, inp, g50, g80, kneelow, band_mpo, AT, RT)\n",
    "plot_response('Response by Band', X['output'])"
   ]
  },
  {
   "cell_type": "code",
   "execution_count": null,
   "id": "respective-split",
   "metadata": {
    "scrolled": false
   },
   "outputs": [],
   "source": [
    "band_mpo[2] = -10\n",
    "X = call_matlab(min_phase, align, inp, g50, g80, kneelow, band_mpo, AT, RT)\n",
    "plot_response('Response by Band', X['output'])"
   ]
  },
  {
   "cell_type": "code",
   "execution_count": null,
   "id": "favorite-ministry",
   "metadata": {},
   "outputs": [],
   "source": [
    "plot_fft('Output Frequency Response', np.sum(X['output'], axis=0))"
   ]
  },
  {
   "cell_type": "code",
   "execution_count": null,
   "id": "imperial-quantum",
   "metadata": {},
   "outputs": [],
   "source": []
  }
 ],
 "metadata": {
  "kernelspec": {
   "display_name": "Python 3",
   "language": "python",
   "name": "python3"
  },
  "language_info": {
   "codemirror_mode": {
    "name": "ipython",
    "version": 3
   },
   "file_extension": ".py",
   "mimetype": "text/x-python",
   "name": "python",
   "nbconvert_exporter": "python",
   "pygments_lexer": "ipython3",
   "version": "3.8.10"
  }
 },
 "nbformat": 4,
 "nbformat_minor": 5
}
