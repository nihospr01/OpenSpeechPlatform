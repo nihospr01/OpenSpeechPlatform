{
 "cells": [
  {
   "cell_type": "markdown",
   "id": "0bb3e7bd",
   "metadata": {},
   "source": [
    "This notebook was used to generate the inputs and expected outputs for fir_test"
   ]
  },
  {
   "cell_type": "code",
   "execution_count": null,
   "id": "17248050",
   "metadata": {},
   "outputs": [],
   "source": [
    "import sys\n",
    "sys.path.append('..')"
   ]
  },
  {
   "cell_type": "code",
   "execution_count": null,
   "id": "a43909a6",
   "metadata": {},
   "outputs": [],
   "source": [
    "import numpy as np\n",
    "import plotly.graph_objects as go\n",
    "from rtmha.filter import FirFilter\n",
    "from rtmha.elevenband import elevenband_taps_min"
   ]
  },
  {
   "cell_type": "code",
   "execution_count": null,
   "id": "383a525d",
   "metadata": {
    "scrolled": true
   },
   "outputs": [],
   "source": [
    "def plot_res(x,y, res):\n",
    "    ms = np.linspace(0,10,len(x))\n",
    "    fig = go.Figure()\n",
    "    fig.add_trace(go.Scatter(x=ms, y=y, name='input'))\n",
    "    fig.add_trace(go.Scatter(x=ms, y=res, name='output'))\n",
    "    fig.update_layout(xaxis_title='milliseconds',\n",
    "                      yaxis_title='Amplitude',\n",
    "                      template='plotly_dark')\n",
    "    fig.show()"
   ]
  },
  {
   "cell_type": "code",
   "execution_count": null,
   "id": "f7e1af9a",
   "metadata": {},
   "outputs": [],
   "source": [
    "# this is the band 0 filter, so the rate is downsampled to 1/16\n",
    "sample_rate = 32000 \n",
    "down_rate=sample_rate / 16 \n",
    "nyq_rate=down_rate / 2 "
   ]
  },
  {
   "cell_type": "code",
   "execution_count": null,
   "id": "d681f1a0",
   "metadata": {},
   "outputs": [],
   "source": [
    "def generate_sine_waves(freq_list, duration=1, sample_rate=32000):\n",
    "    \"\"\"Generates a signal with multiple sine waves\n",
    "\n",
    "    Args:\n",
    "        freq_list: List of frequencies\n",
    "        duration: signal length in seconds (default 1)\n",
    "        sample_rate: sample rate in Hz (default 32000)\n",
    "\n",
    "    Returns:\n",
    "        (t, y): t is time. y is value in range [-1,1]\n",
    "    \"\"\"\n",
    "    x = np.linspace(0, duration, int(sample_rate * duration), endpoint=False)\n",
    "    y = np.zeros(len(x))\n",
    "    for freq in freq_list:\n",
    "        frequencies = x * freq\n",
    "        y += np.sin((2 * np.pi) * frequencies)\n",
    "    y /= len(freq_list)   # normalize\n",
    "    return x, y"
   ]
  },
  {
   "cell_type": "code",
   "execution_count": null,
   "id": "232c2134",
   "metadata": {},
   "outputs": [],
   "source": [
    "x, y = generate_sine_waves([200, 4000], duration=32*10/down_rate, sample_rate=down_rate)"
   ]
  },
  {
   "cell_type": "code",
   "execution_count": null,
   "id": "7d2f6065",
   "metadata": {},
   "outputs": [],
   "source": [
    "f = FirFilter(elevenband_taps_min[0], len(y))\n",
    "res = f.filter(y)\n",
    "plot_res(x,y,res)"
   ]
  },
  {
   "cell_type": "code",
   "execution_count": null,
   "id": "54d9c78b",
   "metadata": {},
   "outputs": [],
   "source": [
    "from scipy.signal import lfilter\n",
    "out = lfilter(elevenband_taps_min[0], 1.0, y)\n",
    "plot_res(x, y, out)"
   ]
  },
  {
   "cell_type": "code",
   "execution_count": null,
   "id": "cdfb38e4",
   "metadata": {},
   "outputs": [],
   "source": [
    "np.allclose(out, res)"
   ]
  },
  {
   "cell_type": "code",
   "execution_count": null,
   "id": "61b1600e",
   "metadata": {},
   "outputs": [],
   "source": [
    "f = FirFilter(elevenband_taps_min[10], len(y))\n",
    "res = f.filter(y)\n",
    "plot_res(x,y,res)"
   ]
  },
  {
   "cell_type": "code",
   "execution_count": null,
   "id": "c5cf2396",
   "metadata": {},
   "outputs": [],
   "source": [
    "inp = np.zeros(128).astype('float32')\n",
    "inp[1]=1\n",
    "f = FirFilter(elevenband_taps_min[0], 128)\n",
    "res = f.filter(inp)\n",
    "plot_res(inp, inp,res)"
   ]
  },
  {
   "cell_type": "code",
   "execution_count": null,
   "id": "f08db82d",
   "metadata": {},
   "outputs": [],
   "source": [
    "%%timeit \n",
    "res = f.filter(inp)"
   ]
  },
  {
   "cell_type": "code",
   "execution_count": null,
   "id": "34e09f90",
   "metadata": {},
   "outputs": [],
   "source": [
    "%%timeit \n",
    "out = lfilter(elevenband_taps_min[0], 1.0, inp)"
   ]
  },
  {
   "cell_type": "code",
   "execution_count": null,
   "id": "49330d63",
   "metadata": {},
   "outputs": [],
   "source": [
    "out = lfilter(elevenband_taps_min[0], 1.0, inp)\n",
    "plot_res(inp, inp, out)"
   ]
  },
  {
   "cell_type": "code",
   "execution_count": null,
   "id": "4acd9893",
   "metadata": {},
   "outputs": [],
   "source": [
    "f = FirFilter(elevenband_taps_min[10], len(inp))\n",
    "res = f.filter(inp)\n",
    "plot_res(inp, inp,res)"
   ]
  },
  {
   "cell_type": "code",
   "execution_count": null,
   "id": "625a9485",
   "metadata": {},
   "outputs": [],
   "source": [
    "down_rate = 32000\n",
    "x, y = generate_sine_waves([8000], duration=32*4/down_rate, sample_rate=down_rate)"
   ]
  },
  {
   "cell_type": "code",
   "execution_count": null,
   "id": "f9600dfa",
   "metadata": {},
   "outputs": [],
   "source": [
    "f = FirFilter(elevenband_taps_min[10], len(y))\n",
    "res = f.filter(y)\n",
    "plot_res(y, y,res)"
   ]
  },
  {
   "cell_type": "code",
   "execution_count": null,
   "id": "84a42086",
   "metadata": {},
   "outputs": [],
   "source": []
  }
 ],
 "metadata": {
  "kernelspec": {
   "display_name": "Python 3",
   "language": "python",
   "name": "python3"
  },
  "language_info": {
   "codemirror_mode": {
    "name": "ipython",
    "version": 3
   },
   "file_extension": ".py",
   "mimetype": "text/x-python",
   "name": "python",
   "nbconvert_exporter": "python",
   "pygments_lexer": "ipython3",
   "version": "3.8.10"
  }
 },
 "nbformat": 4,
 "nbformat_minor": 5
}
