{
 "cells": [
  {
   "cell_type": "markdown",
   "id": "08b74349",
   "metadata": {},
   "source": [
    "# Testing WDRC With 8000 Hz SIgnal C++ and Matlab\n",
    "\n",
    "## Summary - Near Perfect Match\n",
    "\n",
    "As close as can be with c++ using 32-bit floats."
   ]
  },
  {
   "cell_type": "code",
   "execution_count": null,
   "id": "30105ae4",
   "metadata": {},
   "outputs": [],
   "source": [
    "# make Jupyter use the whole width of the browser\n",
    "from IPython.display import Image, display, HTML\n",
    "display(HTML(\"<style>.container { width:100% !important; }</style>\"))"
   ]
  },
  {
   "cell_type": "code",
   "execution_count": null,
   "id": "1ebd8d7e",
   "metadata": {},
   "outputs": [],
   "source": [
    "import sys\n",
    "sys.path.append('..')"
   ]
  },
  {
   "cell_type": "code",
   "execution_count": null,
   "id": "impressed-graphics",
   "metadata": {},
   "outputs": [],
   "source": [
    "import numpy as np\n",
    "from mlab import call_matlab, generate_sine_waves, plot_fft\n",
    "from rtmha.elevenband import Wdrc11\n",
    "import plotly.graph_objects as go"
   ]
  },
  {
   "cell_type": "code",
   "execution_count": null,
   "id": "04148bbb",
   "metadata": {},
   "outputs": [],
   "source": [
    "inp = np.zeros(2048, dtype=np.float32)\n",
    "inp[0] = 1\n",
    "g50 = np.array([ 30, 20, 25,2,15,20,0,0,0,0,0], np.float32)\n",
    "g80 = np.array([ 0,-10,-5, 0,0,0,0,0,-.1,-1,-10], np.float32)\n",
    "kneelow = np.ones(11) * 45\n",
    "band_mpo = np.ones(11) * 120\n",
    "AT = np.ones(11) * 10\n",
    "RT = np.ones(11) * 100\n",
    "min_phase=1\n",
    "align=1"
   ]
  },
  {
   "cell_type": "code",
   "execution_count": null,
   "id": "6e5dca5e",
   "metadata": {},
   "outputs": [],
   "source": [
    "res = call_matlab(min_phase, align, inp, g50, g80, kneelow, band_mpo, AT, RT)\n",
    "res['g50']"
   ]
  },
  {
   "cell_type": "code",
   "execution_count": null,
   "id": "639083bd",
   "metadata": {},
   "outputs": [],
   "source": [
    "res['g80']"
   ]
  },
  {
   "cell_type": "code",
   "execution_count": null,
   "id": "231d9f58",
   "metadata": {},
   "outputs": [],
   "source": [
    "res['alpha1']"
   ]
  },
  {
   "cell_type": "code",
   "execution_count": null,
   "id": "97bd82f8",
   "metadata": {},
   "outputs": [],
   "source": [
    "res['c']"
   ]
  },
  {
   "cell_type": "code",
   "execution_count": null,
   "id": "57bb0ba5",
   "metadata": {},
   "outputs": [],
   "source": [
    "w = Wdrc11(g50, g80, kneelow, band_mpo, AT, RT, len(inp), min_phase, align)\n"
   ]
  },
  {
   "cell_type": "code",
   "execution_count": null,
   "id": "073afb8f",
   "metadata": {},
   "outputs": [],
   "source": [
    "# just verifies the input parameters\n",
    "w.get_param()"
   ]
  },
  {
   "cell_type": "code",
   "execution_count": null,
   "id": "d7e01679",
   "metadata": {},
   "outputs": [],
   "source": [
    "m, b, c, kneeup, alpha1, alpha2 = w.get_param_test()\n",
    "kneeup"
   ]
  },
  {
   "cell_type": "code",
   "execution_count": null,
   "id": "08283617",
   "metadata": {},
   "outputs": [],
   "source": [
    "g50 = np.array([ 5, -0.001, 0, 0,0,0,0,0,0,0,0], np.float32)\n",
    "g80 = np.array([ 10,0,-0.001, 0,0,0,0,0,0,0,0], np.float32)"
   ]
  },
  {
   "cell_type": "code",
   "execution_count": null,
   "id": "ab64d825",
   "metadata": {},
   "outputs": [],
   "source": [
    "res = call_matlab(min_phase, align, inp, g50, g80, kneelow, band_mpo, AT, RT)\n",
    "res['m']"
   ]
  },
  {
   "cell_type": "code",
   "execution_count": null,
   "id": "9e157b73",
   "metadata": {},
   "outputs": [],
   "source": [
    "res['alpha2']"
   ]
  },
  {
   "cell_type": "code",
   "execution_count": null,
   "id": "1b27cf53",
   "metadata": {},
   "outputs": [],
   "source": [
    "w = Wdrc11(g50, g80, kneelow, band_mpo, AT, RT, len(inp), min_phase, align)\n",
    "m, b, c, kneeup, alpha1, alpha2 = w.get_param_test()\n",
    "m"
   ]
  },
  {
   "cell_type": "code",
   "execution_count": null,
   "id": "8dcf567e",
   "metadata": {},
   "outputs": [],
   "source": [
    "g80"
   ]
  },
  {
   "cell_type": "code",
   "execution_count": null,
   "id": "af4d09a8",
   "metadata": {},
   "outputs": [],
   "source": [
    "kneeup"
   ]
  },
  {
   "cell_type": "code",
   "execution_count": null,
   "id": "934d0800",
   "metadata": {},
   "outputs": [],
   "source": [
    "alpha1"
   ]
  },
  {
   "cell_type": "code",
   "execution_count": null,
   "id": "c3a11ab0",
   "metadata": {},
   "outputs": [],
   "source": []
  }
 ],
 "metadata": {
  "kernelspec": {
   "display_name": "Python 3",
   "language": "python",
   "name": "python3"
  },
  "language_info": {
   "codemirror_mode": {
    "name": "ipython",
    "version": 3
   },
   "file_extension": ".py",
   "mimetype": "text/x-python",
   "name": "python",
   "nbconvert_exporter": "python",
   "pygments_lexer": "ipython3",
   "version": "3.8.10"
  }
 },
 "nbformat": 4,
 "nbformat_minor": 5
}
