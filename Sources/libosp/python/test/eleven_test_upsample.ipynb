{
 "cells": [
  {
   "cell_type": "markdown",
   "id": "199936ec",
   "metadata": {},
   "source": [
    "## Test of downampling, filtering into 11 bands and upsampling.\n",
    "\n",
    "No WDRC.\n",
    "This uses matlab to generate test data for some inputs.\n"
   ]
  },
  {
   "cell_type": "code",
   "execution_count": null,
   "id": "impressed-graphics",
   "metadata": {},
   "outputs": [],
   "source": [
    "import numpy as np\n",
    "import plotly.graph_objects as go\n",
    "from mlab import test_upsample, plot_response, generate_sine_waves, plot_fft"
   ]
  },
  {
   "cell_type": "code",
   "execution_count": null,
   "id": "4b911146",
   "metadata": {},
   "outputs": [],
   "source": [
    "def plot_out(title, inp, output):\n",
    "    fig = go.Figure()\n",
    "\n",
    "    # Create x values. 32 samples per millisecond\n",
    "    x = np.array(range(len(inp)))/32.0\n",
    "\n",
    "    fig.add_trace(go.Scatter(x=x,\n",
    "                    y=inp,\n",
    "                    opacity=.5,\n",
    "                    name='input'))\n",
    "\n",
    "    fig.add_trace(go.Scatter(x=x,\n",
    "                    y=output,\n",
    "                    opacity=.5,\n",
    "                    name='output'))\n",
    "\n",
    "    fig.update_layout(title=title,\n",
    "                    xaxis_title='Time(ms)',\n",
    "                    yaxis_title='Output',\n",
    "                    template='simple_white')\n",
    "    fig.show()"
   ]
  },
  {
   "cell_type": "code",
   "execution_count": null,
   "id": "7e3909d4",
   "metadata": {},
   "outputs": [],
   "source": [
    "_, inp400 = generate_sine_waves([400], .05)\n",
    "res = test_upsample(inp400, 1, 1)\n",
    "out400_1_1= res['all_output'][0]\n",
    "plot_out('400Hz (min_phase, align)', inp400, out400_1_1)"
   ]
  },
  {
   "cell_type": "code",
   "execution_count": null,
   "id": "68de9997",
   "metadata": {},
   "outputs": [],
   "source": [
    "plot_fft('400Hz', out400_1_1)"
   ]
  },
  {
   "cell_type": "code",
   "execution_count": null,
   "id": "7e4205e4",
   "metadata": {},
   "outputs": [],
   "source": [
    "res = test_upsample(inp400, 1, 0)\n",
    "out400_1_0 = res['all_output'][0]\n",
    "plot_out('400Hz (min_phase)', inp400, out400_1_0)"
   ]
  },
  {
   "cell_type": "code",
   "execution_count": null,
   "id": "9796edd2",
   "metadata": {},
   "outputs": [],
   "source": [
    "res = test_upsample(inp400, 0, 1)\n",
    "out400_0_1 = res['all_output'][0]\n",
    "plot_out('400Hz (align)', inp400, out400_0_1)"
   ]
  },
  {
   "cell_type": "code",
   "execution_count": null,
   "id": "f34022ee",
   "metadata": {},
   "outputs": [],
   "source": [
    "res = test_upsample(inp400, 0, 0)\n",
    "out400_0_0 = res['all_output'][0]\n",
    "plot_out('400Hz', inp400, out400_0_0)"
   ]
  },
  {
   "cell_type": "code",
   "execution_count": null,
   "id": "842f5abe",
   "metadata": {},
   "outputs": [],
   "source": [
    "_, inp200_500 = generate_sine_waves([200, 500], .05)\n",
    "res = test_upsample(inp200_500, 1, 1)\n",
    "out200_500_1_1 = res['all_output'][0]\n",
    "plot_out('200 + 500Hz (min_phase, align)', inp200_500, out200_500_1_1)"
   ]
  },
  {
   "cell_type": "code",
   "execution_count": null,
   "id": "f32fc95d",
   "metadata": {},
   "outputs": [],
   "source": [
    "plot_fft('200+500', out200_500_1_1)"
   ]
  },
  {
   "cell_type": "code",
   "execution_count": null,
   "id": "01aa4f13",
   "metadata": {},
   "outputs": [],
   "source": [
    "from scipy.io import savemat\n",
    "savemat('eleven_test_upsample.mat', {\n",
    "    'inp400': inp400,\n",
    "    'inp200_500': inp200_500,\n",
    "    'out400_0_0': out400_0_0,\n",
    "    'out400_0_1': out400_0_1,\n",
    "    'out400_1_0': out400_1_0,\n",
    "    'out400_1_1': out400_1_1,\n",
    "    'out200_500_1_1': out200_500_1_1,\n",
    "})"
   ]
  },
  {
   "cell_type": "code",
   "execution_count": null,
   "id": "a5ba68e0",
   "metadata": {},
   "outputs": [],
   "source": []
  }
 ],
 "metadata": {
  "kernelspec": {
   "display_name": "Python 3",
   "language": "python",
   "name": "python3"
  },
  "language_info": {
   "codemirror_mode": {
    "name": "ipython",
    "version": 3
   },
   "file_extension": ".py",
   "mimetype": "text/x-python",
   "name": "python",
   "nbconvert_exporter": "python",
   "pygments_lexer": "ipython3",
   "version": "3.8.10"
  }
 },
 "nbformat": 4,
 "nbformat_minor": 5
}
