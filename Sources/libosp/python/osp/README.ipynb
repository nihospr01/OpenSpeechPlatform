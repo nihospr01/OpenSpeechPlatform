{
 "cells": [
  {
   "cell_type": "markdown",
   "id": "e27311b5",
   "metadata": {},
   "source": [
    "# Jupyter Notebooks for Controlling OSP\n",
    "\n",
    "Notebooks that control or provide GUIs.\n",
    "\n",
    "You will need the osp process running on your laptop, desktop, or PCD device.  OSP can be controlled\n",
    "locally or remotely over a TCP connection.\n",
    "\n",
    "To understand how it is done, you should start here: [OSP Control Tutorial](OSP%20Control%20Tutorial.ipynb)\n",
    "\n",
    "[Freping-AFC](Freping-AFC.ipynb) to an example of a notebook that creates a GUI.\n",
    "\n",
    "\n",
    "[6BandWDRC](6BandWDRC.ipynb), [10BandWDRC](10BandWDRC.ipynb), and [11BandWDRC](11BandWDRC.ipynb) play a mono audio clip with increasing loudness.  By setting WDRC parameters on one channel, you can easily see how the signal is changed compared to the unprocessed channel."
   ]
  }
 ],
 "metadata": {
  "kernelspec": {
   "display_name": "Python 3",
   "language": "python",
   "name": "python3"
  },
  "language_info": {
   "codemirror_mode": {
    "name": "ipython",
    "version": 3
   },
   "file_extension": ".py",
   "mimetype": "text/x-python",
   "name": "python",
   "nbconvert_exporter": "python",
   "pygments_lexer": "ipython3",
   "version": "3.8.10"
  }
 },
 "nbformat": 4,
 "nbformat_minor": 5
}
