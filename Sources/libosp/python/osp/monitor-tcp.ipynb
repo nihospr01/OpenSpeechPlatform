{
 "cells": [
  {
   "cell_type": "markdown",
   "id": "fc06e274",
   "metadata": {},
   "source": [
    "## Audio Monitor\n",
    "\n",
    "Monitors the audio by continuously recording and plotting the recorded audio.\n",
    "\n",
    "You will need to start osp running in a terminal."
   ]
  },
  {
   "cell_type": "code",
   "execution_count": null,
   "id": "a639b4fd",
   "metadata": {},
   "outputs": [],
   "source": [
    "# make Jupyter use the whole width of the browser\n",
    "from IPython.display import Image, display, HTML\n",
    "display(HTML(\"<style>.container { width:100% !important; }</style>\"))"
   ]
  },
  {
   "cell_type": "code",
   "execution_count": null,
   "id": "7b2dad6e",
   "metadata": {},
   "outputs": [],
   "source": [
    "# Pull in all the necessary python modules\n",
    "import plotly.graph_objects as go\n",
    "from IPython.display import Audio\n",
    "from osp_control import OspControl\n",
    "import os\n",
    "import json\n",
    "import numpy as np\n",
    "import time\n",
    "import ipywidgets as widgets\n",
    "import socket\n",
    "import threading\n",
    "import sys"
   ]
  },
  {
   "cell_type": "code",
   "execution_count": null,
   "id": "5defe3cb",
   "metadata": {},
   "outputs": [],
   "source": [
    "DEST_IP = \"192.168.86.38\"\n",
    "# MY_IP = \"127.0.0.1\"\n",
    "MY_IP = \"192.168.86.26\""
   ]
  },
  {
   "cell_type": "code",
   "execution_count": null,
   "id": "6f559b12",
   "metadata": {},
   "outputs": [],
   "source": [
    "# Connect to OSP process\n",
    "osp = OspControl(DEST_IP)  # connects to a local process\n",
    "\n",
    "# set the number of bands and mute mic\n",
    "# osp.send({\"method\": \"set\", \"data\": {\"num_bands\": 11}})\n",
    "osp.send_chan({\"alpha\": 0})"
   ]
  },
  {
   "cell_type": "code",
   "execution_count": null,
   "id": "dc9403e0",
   "metadata": {},
   "outputs": [],
   "source": [
    "def plot_fft(fig, title, out1, update=True):\n",
    "    ftrans = 10 * np.log10(np.abs(np.fft.fft(out1)/len(out1)))\n",
    "    outlen = len(out1)\n",
    "    values = np.arange(int(outlen/2))\n",
    "    period = outlen/32000\n",
    "    frequencies = values/period\n",
    "\n",
    "    if update:\n",
    "        with fig.batch_update():\n",
    "            fig.data[0].y = ftrans\n",
    "            fig.data[0].x = frequencies\n",
    "            fig.update_layout()\n",
    "            return\n",
    "        \n",
    "   \n",
    "    fig.add_trace(go.Scatter(x=frequencies, line_color='green', opacity=1, y=ftrans))\n",
    "\n",
    "    fig.update_layout(title=title,\n",
    "                    xaxis_title='Frequency',\n",
    "                    yaxis_title='dbFS',\n",
    "                    template='plotly_white')"
   ]
  },
  {
   "cell_type": "code",
   "execution_count": null,
   "id": "11cea5ef",
   "metadata": {},
   "outputs": [],
   "source": [
    "def plot_mono(fig, title, out1, lab1, rate=48000, update=True):\n",
    "\n",
    "    # Create x values.\n",
    "    x = np.array(range(len(out1)))/rate\n",
    "    if update:\n",
    "        with fig.batch_update():\n",
    "            fig.data[0].y = out1\n",
    "            fig.data[0].x = x\n",
    "            fig.update_layout()\n",
    "            return\n",
    "    fig.add_trace(go.Scatter(x=x,\n",
    "                             y=out1,\n",
    "                             name=lab1,\n",
    "                             opacity=1))\n",
    "    fig.update_layout(title=title,\n",
    "#                       yaxis_range=[-4,4],\n",
    "                      xaxis_title='Time(sec)',\n",
    "                      yaxis_title='Amplitude',\n",
    "                      template='plotly_white')"
   ]
  },
  {
   "cell_type": "code",
   "execution_count": null,
   "id": "a358d70e",
   "metadata": {},
   "outputs": [],
   "source": [
    "update = False\n",
    "def monitor(afig, ffig, interval=2):\n",
    "    global update\n",
    "    PORT = 5001\n",
    "    sample_size = 384 * 1000  # 384 bytes per ms. Save 1000ms\n",
    "    \n",
    "    sock = socket.socket(socket.AF_INET, socket.SOCK_STREAM)\n",
    "    server_address = (MY_IP, PORT)\n",
    "    sock.bind(server_address)\n",
    "    sock.listen(1)\n",
    "    filename = f\"tcp://{MY_IP}:{PORT}\"\n",
    "    osp.send_chan({'audio_rfile': filename, \"audio_record\": 1})\n",
    "    data = b''\n",
    "    done = False\n",
    "    \n",
    "    # Wait for a connection\n",
    "    with out:\n",
    "        print('waiting for a connection')\n",
    "    connection, client_address = sock.accept()\n",
    "    try:\n",
    "        with out:\n",
    "            print('connection from', client_address)\n",
    "\n",
    "        # Receive the data in small chunks and retransmit it\n",
    "        while True:\n",
    "            while len(data) < sample_size:\n",
    "                new_data = connection.recv(32768)\n",
    "                if len(new_data) == 0:\n",
    "                    done = True\n",
    "                    break\n",
    "                data += new_data\n",
    "            if done:\n",
    "                break\n",
    "            data = np.frombuffer(data, dtype=np.float32)\n",
    "            data = np.reshape(data, (2, -1), 'F')\n",
    "            # plot\n",
    "            plot_mono(afig, '', data[0], 'out', update=update)\n",
    "            plot_fft(ffig, '',  data[0], update=update)\n",
    "            if update == False:\n",
    "                update = True\n",
    "            data = b''\n",
    "            new_data = connection.recv(128000) # discard\n",
    "    finally:\n",
    "        with out:\n",
    "            print(\"Closing socket\")\n",
    "        # Clean up the connection\n",
    "        connection.close()\n",
    "        sock.close()"
   ]
  },
  {
   "cell_type": "code",
   "execution_count": null,
   "id": "14d0a7d2",
   "metadata": {},
   "outputs": [],
   "source": [
    "start_b = widgets.ToggleButton(\n",
    "    value=False,\n",
    "    description='Start',\n",
    "    button_style='success', # 'success', 'info', 'warning', 'danger' or ''\n",
    "    tooltip='Start',\n",
    "    icon='play'\n",
    ")\n",
    "def start_cb(k):\n",
    "    if start_b.value:\n",
    "        start_b.description = 'Stop'\n",
    "        start_b.button_style='danger'\n",
    "        start_b.tooltip='Stop Analysis'\n",
    "        start_b.icon='stop'\n",
    "        threading.Thread(target=monitor, args=(audio_fig, fft_fig)).start()\n",
    "        return\n",
    "    osp.send_chan({\"audio_record\": 0})\n",
    "    start_b.description = 'Start'\n",
    "    start_b.button_style='success'\n",
    "    start_b.tooltip='Start'\n",
    "    start_b.icon='play'\n",
    "    \n",
    "start_b.observe(start_cb, names='value')  "
   ]
  },
  {
   "cell_type": "code",
   "execution_count": null,
   "id": "ade9f20d",
   "metadata": {
    "scrolled": false
   },
   "outputs": [],
   "source": [
    "out = widgets.Output(layout={'border': '1px solid black'})\n",
    "audio_fig = go.FigureWidget()\n",
    "fft_fig = go.FigureWidget()\n",
    "widgets.VBox([audio_fig, fft_fig, start_b, out])"
   ]
  },
  {
   "cell_type": "code",
   "execution_count": null,
   "id": "57ea5914",
   "metadata": {},
   "outputs": [],
   "source": []
  }
 ],
 "metadata": {
  "kernelspec": {
   "display_name": "Python 3",
   "language": "python",
   "name": "python3"
  },
  "language_info": {
   "codemirror_mode": {
    "name": "ipython",
    "version": 3
   },
   "file_extension": ".py",
   "mimetype": "text/x-python",
   "name": "python",
   "nbconvert_exporter": "python",
   "pygments_lexer": "ipython3",
   "version": "3.8.10"
  }
 },
 "nbformat": 4,
 "nbformat_minor": 5
}
