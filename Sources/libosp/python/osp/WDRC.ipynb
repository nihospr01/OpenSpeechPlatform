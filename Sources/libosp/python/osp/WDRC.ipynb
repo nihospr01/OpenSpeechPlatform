{
 "cells": [
  {
   "cell_type": "markdown",
   "id": "fc06e274",
   "metadata": {},
   "source": [
    "## Testing WDRC\n",
    "\n",
    "This notebook tests WDRC on a running OSP process.\n",
    "\n",
    "You will need to start osp running in a terminal."
   ]
  },
  {
   "cell_type": "code",
   "execution_count": null,
   "id": "a639b4fd",
   "metadata": {},
   "outputs": [],
   "source": [
    "# make Jupyter use the whole width of the browser\n",
    "from IPython.display import Image, display, HTML\n",
    "display(HTML(\"<style>.container { width:100% !important; }</style>\"))"
   ]
  },
  {
   "cell_type": "code",
   "execution_count": null,
   "id": "7b2dad6e",
   "metadata": {},
   "outputs": [],
   "source": [
    "# Pull in all the necessary python modules\n",
    "\n",
    "from IPython.display import Audio\n",
    "from osp_control import OspControl, plot_audio\n",
    "import os\n",
    "import json\n",
    "import numpy as np\n",
    "import time"
   ]
  },
  {
   "cell_type": "code",
   "execution_count": null,
   "id": "6f559b12",
   "metadata": {},
   "outputs": [],
   "source": [
    "# Connect to OSP process\n",
    "osp = OspControl()  # connects to a local process\n",
    "\n",
    "# set the number of bands and mute mic\n",
    "osp.send({\"method\": \"set\", \"data\": {\"num_bands\": 11}})\n",
    "osp.send_chan({\"alpha\": 1})"
   ]
  },
  {
   "cell_type": "code",
   "execution_count": null,
   "id": "dc9403e0",
   "metadata": {},
   "outputs": [],
   "source": [
    "# set left G50, but keep right G50=0 so we can measure the difference\n",
    "\n",
    "g50_val = 15\n",
    "osp.send({\"method\": \"set\", \"data\": {\"left\": {\"g50\": g50_val}, \"right\": {\"g50\": 0}}})\n",
    "\n",
    "# osp.send({\"method\": \"set\", \"data\": {\"left\": {\"g80\": -5}, \"right\": {\"g50\": 0}}})\n",
    "# TODO: replicate the capability for g65/cr"
   ]
  },
  {
   "cell_type": "code",
   "execution_count": null,
   "id": "76a2b290",
   "metadata": {},
   "outputs": [],
   "source": [
    "# verify values.  not necessary\n",
    "res = osp.send({\"method\": \"get\"})\n",
    "print(\"Left  g50=\", res['left']['g50'])\n",
    "print(\"Right g50=\", res['right']['g50'])"
   ]
  },
  {
   "cell_type": "code",
   "execution_count": null,
   "id": "2f0f9e9d",
   "metadata": {},
   "outputs": [],
   "source": [
    "# set record file name\n",
    "filename = os.path.join(os.getcwd(), 'WDRCtest')\n",
    "osp.send_chan({'audio_rfile': filename})"
   ]
  },
  {
   "cell_type": "code",
   "execution_count": null,
   "id": "a358d70e",
   "metadata": {},
   "outputs": [],
   "source": [
    "#start recording output\n",
    "osp.send_chan({\"audio_record\": 2})\n",
    "\n",
    "# play mono file\n",
    "# afile = os.path.join(os.getcwd(), '12345.wav')\n",
    "afile = \"Freping/MPEG_es03_s.wav\"\n",
    "osp.send_chan({\"audio_filename\": afile, \"audio_play\": 1, \"audio_alpha\": 1})\n",
    "\n",
    "# record for 4 seconds\n",
    "time.sleep(4)\n",
    "\n",
    "#stop recording and playback\n",
    "osp.send_chan({\"audio_record\": 0, \"audio_play\": 0})"
   ]
  },
  {
   "cell_type": "code",
   "execution_count": null,
   "id": "7cc54ae0",
   "metadata": {},
   "outputs": [],
   "source": [
    "# read the saved recording data\n",
    "with open(filename, \"rb\") as f:\n",
    "    data = f.read()\n",
    "data = np.frombuffer(data, dtype=np.float32)\n",
    "data = np.reshape(data, (2, -1), 'F')"
   ]
  },
  {
   "cell_type": "code",
   "execution_count": null,
   "id": "b60e485d",
   "metadata": {},
   "outputs": [],
   "source": [
    "# plot it\n",
    "plot_audio('', data[0], f'g50={g50_val}', data[1], 'g50=0')"
   ]
  },
  {
   "cell_type": "markdown",
   "id": "e71ef9e9",
   "metadata": {},
   "source": [
    "You should see the left channel has a compressed dynamic range."
   ]
  },
  {
   "cell_type": "code",
   "execution_count": null,
   "id": "5e055b9c",
   "metadata": {},
   "outputs": [],
   "source": [
    "Audio(data, rate=48000, normalize=True)"
   ]
  }
 ],
 "metadata": {
  "kernelspec": {
   "display_name": "Python 3",
   "language": "python",
   "name": "python3"
  },
  "language_info": {
   "codemirror_mode": {
    "name": "ipython",
    "version": 3
   },
   "file_extension": ".py",
   "mimetype": "text/x-python",
   "name": "python",
   "nbconvert_exporter": "python",
   "pygments_lexer": "ipython3",
   "version": "3.8.10"
  }
 },
 "nbformat": 4,
 "nbformat_minor": 5
}
