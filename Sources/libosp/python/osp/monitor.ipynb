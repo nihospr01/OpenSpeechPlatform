{
 "cells": [
  {
   "cell_type": "markdown",
   "id": "fc06e274",
   "metadata": {},
   "source": [
    "## Audio Monitor\n",
    "\n",
    "Monitors the audio by continuously recording and plotting the recorded audio.\n",
    "\n",
    "You will need to start osp running in a terminal."
   ]
  },
  {
   "cell_type": "code",
   "execution_count": 1,
   "id": "a639b4fd",
   "metadata": {},
   "outputs": [
    {
     "data": {
      "text/html": [
       "<style>.container { width:100% !important; }</style>"
      ],
      "text/plain": [
       "<IPython.core.display.HTML object>"
      ]
     },
     "metadata": {},
     "output_type": "display_data"
    }
   ],
   "source": [
    "# make Jupyter use the whole width of the browser\n",
    "from IPython.display import Image, display, HTML\n",
    "display(HTML(\"<style>.container { width:100% !important; }</style>\"))"
   ]
  },
  {
   "cell_type": "code",
   "execution_count": 2,
   "id": "7b2dad6e",
   "metadata": {},
   "outputs": [],
   "source": [
    "# Pull in all the necessary python modules\n",
    "import plotly.graph_objects as go\n",
    "from IPython.display import Audio\n",
    "from osp_control import OspControl\n",
    "import os\n",
    "import json\n",
    "import numpy as np\n",
    "import time\n",
    "import ipywidgets as widgets\n"
   ]
  },
  {
   "cell_type": "code",
   "execution_count": 3,
   "id": "6f559b12",
   "metadata": {},
   "outputs": [
    {
     "data": {
      "text/plain": [
       "{'Result': 'success'}"
      ]
     },
     "execution_count": 3,
     "metadata": {},
     "output_type": "execute_result"
    }
   ],
   "source": [
    "# Connect to OSP process\n",
    "osp = OspControl()  # connects to a local process\n",
    "\n",
    "# set the number of bands and mute mic\n",
    "osp.send({\"method\": \"set\", \"data\": {\"num_bands\": 11}})\n",
    "osp.send_chan({\"alpha\": 0})"
   ]
  },
  {
   "cell_type": "code",
   "execution_count": 4,
   "id": "dc9403e0",
   "metadata": {},
   "outputs": [],
   "source": [
    "def plot_fft(fig, title, out1, update=True):\n",
    "    ftrans = np.abs(np.fft.fft(out1)/len(out1))\n",
    "    outlen = len(out1)\n",
    "    values = np.arange(int(outlen/2))\n",
    "    period = outlen/32000\n",
    "    frequencies = values/period\n",
    "\n",
    "    if update:\n",
    "        with fig.batch_update():\n",
    "            fig.data[0].y = ftrans\n",
    "            fig.data[0].x = frequencies\n",
    "            fig.update_layout()\n",
    "            return\n",
    "        \n",
    "   \n",
    "    fig.add_trace(go.Scatter(x=frequencies, line_color='green', opacity=1, y=ftrans))\n",
    "\n",
    "    fig.update_layout(title=title,\n",
    "                    xaxis_title='Frequency',\n",
    "                    yaxis_title='Amplitude',\n",
    "                    template='plotly_white')"
   ]
  },
  {
   "cell_type": "code",
   "execution_count": 5,
   "id": "11cea5ef",
   "metadata": {},
   "outputs": [],
   "source": [
    "def plot_mono(fig, title, out1, lab1, rate=48000, update=True):\n",
    "\n",
    "    # Create x values.\n",
    "    x = np.array(range(len(out1)))/rate\n",
    "    if update:\n",
    "        with fig.batch_update():\n",
    "            fig.data[0].y = out1\n",
    "            fig.data[0].x = x\n",
    "            fig.update_layout()\n",
    "            return\n",
    "    fig.add_trace(go.Scatter(x=x,\n",
    "                             y=out1,\n",
    "                             name=lab1,\n",
    "                             opacity=1))\n",
    "    fig.update_layout(title=title,\n",
    "#                       yaxis_range=[-1,1],\n",
    "                      xaxis_title='Time(sec)',\n",
    "                      yaxis_title='Amplitude',\n",
    "                      template='plotly_white')"
   ]
  },
  {
   "cell_type": "code",
   "execution_count": 6,
   "id": "a358d70e",
   "metadata": {},
   "outputs": [],
   "source": [
    "def monitor(afig, ffig, interval=2):\n",
    "    update=False\n",
    "    while True:\n",
    "        # set record file name\n",
    "        filename = os.path.join(os.getcwd(), 'tmpaudio')\n",
    "        osp.send_chan({'audio_rfile': filename})\n",
    "\n",
    "        #start recording output\n",
    "        osp.send_chan({\"audio_record\": 1})\n",
    "\n",
    "        # record for {interval} seconds\n",
    "        time.sleep(interval)\n",
    "\n",
    "        #stop recording\n",
    "        osp.send_chan({\"audio_record\": 0})\n",
    "\n",
    "        # read the saved recording data\n",
    "        with open(filename, \"rb\") as f:\n",
    "            data = f.read()\n",
    "        data = np.frombuffer(data, dtype=np.float32)\n",
    "        data = np.reshape(data, (2, -1), 'F')\n",
    "        \n",
    "        # plot\n",
    "        plot_mono(afig, '', data[0], 'out', update=update)\n",
    "        plot_fft(ffig, '',  data[0], update=update)\n",
    "        if update == False:\n",
    "            update = True"
   ]
  },
  {
   "cell_type": "code",
   "execution_count": 7,
   "id": "ade9f20d",
   "metadata": {},
   "outputs": [
    {
     "data": {
      "application/vnd.jupyter.widget-view+json": {
       "model_id": "3e0ce87ee4ee4b858957b6f64d172e33",
       "version_major": 2,
       "version_minor": 0
      },
      "text/plain": [
       "VBox(children=(FigureWidget({\n",
       "    'data': [], 'layout': {'template': '...'}\n",
       "}), FigureWidget({\n",
       "    'data': [],…"
      ]
     },
     "metadata": {},
     "output_type": "display_data"
    }
   ],
   "source": [
    "audio_fig = go.FigureWidget()\n",
    "fft_fig = go.FigureWidget()\n",
    "widgets.VBox([audio_fig, fft_fig])"
   ]
  },
  {
   "cell_type": "code",
   "execution_count": 8,
   "id": "c343df3f",
   "metadata": {
    "scrolled": false
   },
   "outputs": [
    {
     "ename": "OSPNotRunningException",
     "evalue": "Could not connect to the osp process on the given hostname/port",
     "output_type": "error",
     "traceback": [
      "\u001b[0;31m---------------------------------------------------------------------------\u001b[0m",
      "\u001b[0;31mConnectionRefusedError\u001b[0m                    Traceback (most recent call last)",
      "\u001b[0;32m~/eleven/libosp/python/osp/osp_control.py\u001b[0m in \u001b[0;36msend\u001b[0;34m(self, message)\u001b[0m\n\u001b[1;32m     64\u001b[0m         \u001b[0;32mtry\u001b[0m\u001b[0;34m:\u001b[0m\u001b[0;34m\u001b[0m\u001b[0;34m\u001b[0m\u001b[0m\n\u001b[0;32m---> 65\u001b[0;31m             \u001b[0msock\u001b[0m\u001b[0;34m.\u001b[0m\u001b[0mconnect\u001b[0m\u001b[0;34m(\u001b[0m\u001b[0mserver_address\u001b[0m\u001b[0;34m)\u001b[0m\u001b[0;34m\u001b[0m\u001b[0;34m\u001b[0m\u001b[0m\n\u001b[0m\u001b[1;32m     66\u001b[0m         \u001b[0;32mexcept\u001b[0m \u001b[0mConnectionRefusedError\u001b[0m\u001b[0;34m:\u001b[0m\u001b[0;34m\u001b[0m\u001b[0;34m\u001b[0m\u001b[0m\n",
      "\u001b[0;31mConnectionRefusedError\u001b[0m: [Errno 111] Connection refused",
      "\nDuring handling of the above exception, another exception occurred:\n",
      "\u001b[0;31mOSPNotRunningException\u001b[0m                    Traceback (most recent call last)",
      "\u001b[0;32m<ipython-input-8-fa46aed6cf5e>\u001b[0m in \u001b[0;36m<module>\u001b[0;34m\u001b[0m\n\u001b[0;32m----> 1\u001b[0;31m \u001b[0mmonitor\u001b[0m\u001b[0;34m(\u001b[0m\u001b[0maudio_fig\u001b[0m\u001b[0;34m,\u001b[0m \u001b[0mfft_fig\u001b[0m\u001b[0;34m)\u001b[0m\u001b[0;34m\u001b[0m\u001b[0;34m\u001b[0m\u001b[0m\n\u001b[0m",
      "\u001b[0;32m<ipython-input-6-cab3b6916920>\u001b[0m in \u001b[0;36mmonitor\u001b[0;34m(afig, ffig, interval)\u001b[0m\n\u001b[1;32m     13\u001b[0m \u001b[0;34m\u001b[0m\u001b[0m\n\u001b[1;32m     14\u001b[0m         \u001b[0;31m#stop recording\u001b[0m\u001b[0;34m\u001b[0m\u001b[0;34m\u001b[0m\u001b[0;34m\u001b[0m\u001b[0m\n\u001b[0;32m---> 15\u001b[0;31m         \u001b[0mosp\u001b[0m\u001b[0;34m.\u001b[0m\u001b[0msend_chan\u001b[0m\u001b[0;34m(\u001b[0m\u001b[0;34m{\u001b[0m\u001b[0;34m\"audio_record\"\u001b[0m\u001b[0;34m:\u001b[0m \u001b[0;36m0\u001b[0m\u001b[0;34m}\u001b[0m\u001b[0;34m)\u001b[0m\u001b[0;34m\u001b[0m\u001b[0;34m\u001b[0m\u001b[0m\n\u001b[0m\u001b[1;32m     16\u001b[0m \u001b[0;34m\u001b[0m\u001b[0m\n\u001b[1;32m     17\u001b[0m         \u001b[0;31m# read the saved recording data\u001b[0m\u001b[0;34m\u001b[0m\u001b[0;34m\u001b[0m\u001b[0;34m\u001b[0m\u001b[0m\n",
      "\u001b[0;32m~/eleven/libosp/python/osp/osp_control.py\u001b[0m in \u001b[0;36msend_chan\u001b[0;34m(self, sdict, channel)\u001b[0m\n\u001b[1;32m    116\u001b[0m         \u001b[0;32mif\u001b[0m \u001b[0mchannel\u001b[0m \u001b[0;34m==\u001b[0m  \u001b[0;34m'right'\u001b[0m \u001b[0;32mor\u001b[0m \u001b[0mchannel\u001b[0m \u001b[0;32mis\u001b[0m \u001b[0;32mNone\u001b[0m\u001b[0;34m:\u001b[0m\u001b[0;34m\u001b[0m\u001b[0;34m\u001b[0m\u001b[0m\n\u001b[1;32m    117\u001b[0m             \u001b[0msend_data\u001b[0m\u001b[0;34m[\u001b[0m\u001b[0;34m'data'\u001b[0m\u001b[0;34m]\u001b[0m\u001b[0;34m[\u001b[0m\u001b[0;34m'right'\u001b[0m\u001b[0;34m]\u001b[0m \u001b[0;34m=\u001b[0m \u001b[0msdict\u001b[0m\u001b[0;34m\u001b[0m\u001b[0;34m\u001b[0m\u001b[0m\n\u001b[0;32m--> 118\u001b[0;31m         \u001b[0;32mreturn\u001b[0m \u001b[0mself\u001b[0m\u001b[0;34m.\u001b[0m\u001b[0msend\u001b[0m\u001b[0;34m(\u001b[0m\u001b[0msend_data\u001b[0m\u001b[0;34m)\u001b[0m\u001b[0;34m\u001b[0m\u001b[0;34m\u001b[0m\u001b[0m\n\u001b[0m\u001b[1;32m    119\u001b[0m \u001b[0;34m\u001b[0m\u001b[0m\n\u001b[1;32m    120\u001b[0m \u001b[0;32mdef\u001b[0m \u001b[0mplot_audio\u001b[0m\u001b[0;34m(\u001b[0m\u001b[0mtitle\u001b[0m\u001b[0;34m,\u001b[0m \u001b[0mout1\u001b[0m\u001b[0;34m,\u001b[0m \u001b[0mlab1\u001b[0m\u001b[0;34m,\u001b[0m \u001b[0mout2\u001b[0m\u001b[0;34m,\u001b[0m \u001b[0mlab2\u001b[0m\u001b[0;34m,\u001b[0m \u001b[0mrate\u001b[0m\u001b[0;34m=\u001b[0m\u001b[0;36m48000\u001b[0m\u001b[0;34m,\u001b[0m \u001b[0mname\u001b[0m\u001b[0;34m=\u001b[0m\u001b[0;32mNone\u001b[0m\u001b[0;34m)\u001b[0m\u001b[0;34m:\u001b[0m\u001b[0;34m\u001b[0m\u001b[0;34m\u001b[0m\u001b[0m\n",
      "\u001b[0;32m~/eleven/libosp/python/osp/osp_control.py\u001b[0m in \u001b[0;36msend\u001b[0;34m(self, message)\u001b[0m\n\u001b[1;32m     65\u001b[0m             \u001b[0msock\u001b[0m\u001b[0;34m.\u001b[0m\u001b[0mconnect\u001b[0m\u001b[0;34m(\u001b[0m\u001b[0mserver_address\u001b[0m\u001b[0;34m)\u001b[0m\u001b[0;34m\u001b[0m\u001b[0;34m\u001b[0m\u001b[0m\n\u001b[1;32m     66\u001b[0m         \u001b[0;32mexcept\u001b[0m \u001b[0mConnectionRefusedError\u001b[0m\u001b[0;34m:\u001b[0m\u001b[0;34m\u001b[0m\u001b[0;34m\u001b[0m\u001b[0m\n\u001b[0;32m---> 67\u001b[0;31m             \u001b[0;32mraise\u001b[0m \u001b[0mOSPNotRunningException\u001b[0m\u001b[0;34m\u001b[0m\u001b[0;34m\u001b[0m\u001b[0m\n\u001b[0m\u001b[1;32m     68\u001b[0m \u001b[0;34m\u001b[0m\u001b[0m\n\u001b[1;32m     69\u001b[0m         \u001b[0msent\u001b[0m \u001b[0;34m=\u001b[0m \u001b[0;32mFalse\u001b[0m\u001b[0;34m\u001b[0m\u001b[0;34m\u001b[0m\u001b[0m\n",
      "\u001b[0;31mOSPNotRunningException\u001b[0m: Could not connect to the osp process on the given hostname/port"
     ]
    }
   ],
   "source": [
    "monitor(audio_fig, fft_fig)"
   ]
  }
 ],
 "metadata": {
  "kernelspec": {
   "display_name": "Python 3",
   "language": "python",
   "name": "python3"
  },
  "language_info": {
   "codemirror_mode": {
    "name": "ipython",
    "version": 3
   },
   "file_extension": ".py",
   "mimetype": "text/x-python",
   "name": "python",
   "nbconvert_exporter": "python",
   "pygments_lexer": "ipython3",
   "version": "3.8.10"
  }
 },
 "nbformat": 4,
 "nbformat_minor": 5
}
