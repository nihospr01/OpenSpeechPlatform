{
 "cells": [
  {
   "cell_type": "markdown",
   "id": "fc06e274",
   "metadata": {},
   "source": [
    "## Controlling OSP from Jupyter and/or Python\n",
    "\n",
    "You will need to start osp running in a terminal."
   ]
  },
  {
   "cell_type": "code",
   "execution_count": null,
   "id": "a639b4fd",
   "metadata": {},
   "outputs": [],
   "source": [
    "# optionally make Jupyter use the whole width of the browser\n",
    "from IPython.display import Image, display, HTML\n",
    "display(HTML(\"<style>.container { width:100% !important; }</style>\"))"
   ]
  },
  {
   "cell_type": "code",
   "execution_count": null,
   "id": "7b2dad6e",
   "metadata": {},
   "outputs": [],
   "source": [
    "from osp_control import OspControl\n",
    "\n",
    "# OPTIONAL: rich module nicely formats json output\n",
    "from rich import pretty\n",
    "pretty.install()"
   ]
  },
  {
   "cell_type": "markdown",
   "id": "4481f08b",
   "metadata": {},
   "source": [
    "## Start OSP in a Terminal\n",
    "\n",
    "osp must be running before the rest of this notebook is run.\n",
    "\n",
    "## Create an OspControl Object"
   ]
  },
  {
   "cell_type": "code",
   "execution_count": null,
   "id": "621f3efd",
   "metadata": {},
   "outputs": [],
   "source": [
    "# connect locally\n",
    "osp = OspControl()\n",
    "\n",
    "# to connect to a PCD device\n",
    "#osp = OspControl(\"ospboard.lan\")"
   ]
  },
  {
   "cell_type": "markdown",
   "id": "2edf7c9d",
   "metadata": {},
   "source": [
    "### OspControl.send()\n",
    "\n",
    "*OspControl.send()* takes a string or dictionary and sends it to the **osp** process."
   ]
  },
  {
   "cell_type": "code",
   "execution_count": null,
   "id": "be14c801",
   "metadata": {},
   "outputs": [],
   "source": [
    "help(OspControl.send)"
   ]
  },
  {
   "cell_type": "code",
   "execution_count": null,
   "id": "1f37e497",
   "metadata": {},
   "outputs": [],
   "source": [
    "# send a string\n",
    "osp.send('{\"method\": \"set\", \"data\": {\"left\": {\"alpha\": 1}, \"right\": {\"alpha\": 1}}}')"
   ]
  },
  {
   "cell_type": "markdown",
   "id": "f18095b0",
   "metadata": {},
   "source": [
    "An easier and more pythonic way to send commands to **osp** is to use a python dictionary (which is very similar to JSON)."
   ]
  },
  {
   "cell_type": "code",
   "execution_count": null,
   "id": "6f559b12",
   "metadata": {},
   "outputs": [],
   "source": [
    "osp.send({\"method\": \"set\", \"data\": {\"left\": {\"alpha\": 1}, \"right\": {\"alpha\": 1}}})"
   ]
  },
  {
   "cell_type": "markdown",
   "id": "c7a9db5a",
   "metadata": {},
   "source": [
    "Note that *set* commands always return {'Result': 'success'} or throw an exception if something went wrong.\n",
    "\n",
    "*get* commands return a python dictionary with the results"
   ]
  },
  {
   "cell_type": "code",
   "execution_count": null,
   "id": "6de10433",
   "metadata": {
    "scrolled": false
   },
   "outputs": [],
   "source": [
    "osp.send({\"method\": \"get\"})"
   ]
  },
  {
   "cell_type": "markdown",
   "id": "1332c5d2",
   "metadata": {},
   "source": [
    "### OspControl.send_chan()\n",
    "\n",
    "RTMHA parameters are sent to the left and right channels.  A few, such as beamforming, apply to both channels.  In this case, only the left channel values are set.\n",
    "\n",
    "To simplify setting channel parameters, *send_chan()* send a python dictionary or parameters to one or both channels."
   ]
  },
  {
   "cell_type": "code",
   "execution_count": null,
   "id": "50703e39",
   "metadata": {},
   "outputs": [],
   "source": [
    "help(OspControl.send_chan)"
   ]
  },
  {
   "cell_type": "code",
   "execution_count": null,
   "id": "b77ac504",
   "metadata": {},
   "outputs": [],
   "source": [
    "# set g50 differently on left and right channels\n",
    "osp.send_chan({\"g50\": 10}, channel='left')\n",
    "osp.send_chan({\"g50\": 15}, channel='right')\n",
    "\n",
    "res = osp.send({\"method\": \"get\"})\n",
    "print(\"Left  g50=\", res['left']['g50'])\n",
    "print(\"Right g50=\", res['right']['g50'])"
   ]
  },
  {
   "cell_type": "code",
   "execution_count": null,
   "id": "d6d6ce92",
   "metadata": {},
   "outputs": [],
   "source": [
    "# set g50 for both channels\n",
    "osp.send_chan({\"g50\": 1.5})\n",
    "res = osp.send({\"method\": \"get\"})\n",
    "print(\"Left  g50=\", res['left']['g50'])\n",
    "print(\"Right g50=\", res['right']['g50'])          "
   ]
  },
  {
   "cell_type": "markdown",
   "id": "5681b246",
   "metadata": {},
   "source": [
    "### Non-Channel Commands\n",
    "\n",
    "A few commands, like **get** do not get sent to the audio channels. Use *send()*"
   ]
  },
  {
   "cell_type": "code",
   "execution_count": null,
   "id": "1180babc",
   "metadata": {},
   "outputs": [],
   "source": [
    "# set the number of bands\n",
    "osp.send({\"method\": \"set\", \"data\": {\"num_bands\": 10}})"
   ]
  },
  {
   "cell_type": "code",
   "execution_count": null,
   "id": "952b299f",
   "metadata": {},
   "outputs": [],
   "source": [
    "# restart RTMHA (not normally needed)\n",
    "# osp.send({\"method\": \"set\", \"data\": {\"restart\": 1}})"
   ]
  },
  {
   "cell_type": "code",
   "execution_count": null,
   "id": "fcbcc3bf",
   "metadata": {},
   "outputs": [],
   "source": [
    "# Get The Media Paths\n",
    "osp.send({\"method\": \"get_media\"})"
   ]
  },
  {
   "cell_type": "markdown",
   "id": "7358f0af",
   "metadata": {},
   "source": [
    "### Vector Parameters\n",
    "\n",
    "Vector are used to set the band parameters, like **g50**, **g80**, **attack**, **release**, etc.\n",
    "If you want to set the entire vector to the same value, you can pass in a scalar"
   ]
  },
  {
   "cell_type": "code",
   "execution_count": null,
   "id": "a80030a1",
   "metadata": {},
   "outputs": [],
   "source": [
    "osp.send_chan({\"g50\": 0})\n",
    "\n",
    "res = osp.send({\"method\": \"get\"})\n",
    "print(\"Left  g50=\", res['left']['g50'])\n",
    "print(\"Right g50=\", res['right']['g50'])"
   ]
  },
  {
   "cell_type": "markdown",
   "id": "46df7d59",
   "metadata": {},
   "source": [
    "To set individual bands, pass in an array or list. Note that the length\n",
    "of the array must equal the number of bands. The below command works only\n",
    "in 10-band mode "
   ]
  },
  {
   "cell_type": "code",
   "execution_count": null,
   "id": "00ed74a4",
   "metadata": {},
   "outputs": [],
   "source": [
    "osp.send_chan({\"g50\": [1,2,3,4,5,6,7,8,9,10]})\n",
    "\n",
    "res = osp.send({\"method\": \"get\"})\n",
    "print(\"Left  g50=\", res['left']['g50'])\n",
    "print(\"Right g50=\", res['right']['g50'])"
   ]
  },
  {
   "cell_type": "code",
   "execution_count": null,
   "id": "52f38da5",
   "metadata": {},
   "outputs": [],
   "source": []
  }
 ],
 "metadata": {
  "kernelspec": {
   "display_name": "Python 3",
   "language": "python",
   "name": "python3"
  },
  "language_info": {
   "codemirror_mode": {
    "name": "ipython",
    "version": 3
   },
   "file_extension": ".py",
   "mimetype": "text/x-python",
   "name": "python",
   "nbconvert_exporter": "python",
   "pygments_lexer": "ipython3",
   "version": "3.8.10"
  }
 },
 "nbformat": 4,
 "nbformat_minor": 5
}
