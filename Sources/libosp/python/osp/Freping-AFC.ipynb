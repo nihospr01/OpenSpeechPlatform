{
 "cells": [
  {
   "cell_type": "markdown",
   "id": "ca406063",
   "metadata": {},
   "source": [
    "# Example GUI for Freping and AFC\n",
    "\n"
   ]
  },
  {
   "cell_type": "code",
   "execution_count": 1,
   "id": "95e7ed48",
   "metadata": {},
   "outputs": [
    {
     "data": {
      "text/html": [
       "<style>.container { width:100% !important; }</style>"
      ],
      "text/plain": [
       "<IPython.core.display.HTML object>"
      ]
     },
     "metadata": {},
     "output_type": "display_data"
    }
   ],
   "source": [
    "# optionally make Jupyter use the whole width of the browser\n",
    "from IPython.display import Image, display, HTML\n",
    "display(HTML(\"<style>.container { width:100% !important; }</style>\"))"
   ]
  },
  {
   "cell_type": "code",
   "execution_count": 2,
   "id": "8f8b4d9b",
   "metadata": {},
   "outputs": [],
   "source": [
    "# Pull in all the necessary python modules\n",
    "\n",
    "from osp_control import OspControl\n",
    "import numpy as np\n",
    "import ipywidgets as widgets\n",
    "import threading\n",
    "import time"
   ]
  },
  {
   "cell_type": "code",
   "execution_count": 3,
   "id": "6e14867d",
   "metadata": {},
   "outputs": [],
   "source": [
    "# create a connection to a local OSP process\n",
    "osp = OspControl()\n",
    "\n",
    "# or connect to a PCD device\n",
    "# osp = OspControl(\"ospboard.lan\") \n",
    "# osp = OspControl(\"192.168.86.38\") "
   ]
  },
  {
   "cell_type": "code",
   "execution_count": 4,
   "id": "6a534c16",
   "metadata": {},
   "outputs": [],
   "source": [
    "# set the number of bands and mute mic\n",
    "osp.send({\"method\": \"set\", \"data\": {\"num_bands\": 11}})\n",
    "osp.send_chan({\"alpha\": 1});"
   ]
  },
  {
   "cell_type": "code",
   "execution_count": 5,
   "id": "c456613b",
   "metadata": {},
   "outputs": [],
   "source": [
    "# get the current number of bands\n",
    "vals = osp.send({\"method\": \"get\"})\n",
    "cur_bands = vals[\"num_bands\"]"
   ]
  },
  {
   "cell_type": "code",
   "execution_count": 6,
   "id": "cd2404e0",
   "metadata": {},
   "outputs": [],
   "source": [
    "# Create Controls\n",
    "\n",
    "freping = widgets.Checkbox(\n",
    "    description='Freping',\n",
    ")\n",
    "\n",
    "# create 11 sliders. We will only display the ones necessary\n",
    "freping_alpha = []\n",
    "for band in range(11):\n",
    "    freping_alpha.append(widgets.FloatSlider(\n",
    "        value=0,\n",
    "        min=-.5,\n",
    "        max=.5,\n",
    "        step=0.01,\n",
    "        description=f\"Band {band}\",\n",
    "        continuous_update=True,\n",
    "        orientation='horizontal',\n",
    "        readout=True,\n",
    "        readout_format='.2f'\n",
    "    ))\n",
    "\n",
    "afc = widgets.Checkbox(\n",
    "    description='AFC',\n",
    ")\n",
    "\n",
    "afc_type = widgets.Dropdown(\n",
    "    options=[('FXLMS', 1), ('IPNLMS', 2), ('SLMS', 3)],\n",
    "    value=1,\n",
    "    description='Type:',\n",
    ")\n",
    "\n",
    "play_w = widgets.Dropdown(\n",
    "    options=[('diner', 'Freping/MPEG_es01_s.wav'), ('animals', 'Freping/MPEG_es03_s.wav'), ('sound', 'Freping/MPEG_te19.wav')],\n",
    "    value='Freping/MPEG_es01_s.wav',\n",
    "    description='Play:',\n",
    ")\n",
    "\n",
    "play_b = widgets.ToggleButton(\n",
    "    description='Play',\n",
    "    button_style='success', # 'success', 'info', 'warning', 'danger' or ''\n",
    "    tooltip='Play File',\n",
    "    icon='play'\n",
    ")"
   ]
  },
  {
   "cell_type": "code",
   "execution_count": 7,
   "id": "76ca8cc6",
   "metadata": {},
   "outputs": [],
   "source": [
    "# called when controls change\n",
    "def update_osp(k=None):\n",
    "    w = k['owner']\n",
    "    if w == freping:\n",
    "        osp.send_chan({\"freping\": w.value})\n",
    "        return\n",
    "    if w == afc:\n",
    "        osp.send_chan({\"afc\": w.value})\n",
    "        return\n",
    "    if w == afc_type:\n",
    "        osp.send_chan({\"afc_type\": w.value})\n",
    "        return\n",
    "    fvec = [freping_alpha[x].value for x in range(vals['num_bands'])]\n",
    "    osp.send_chan({\"freping_alpha\": fvec})"
   ]
  },
  {
   "cell_type": "code",
   "execution_count": 8,
   "id": "00bbe044",
   "metadata": {},
   "outputs": [],
   "source": [
    "# when play button is clicked\n",
    "def play_cb(k):\n",
    "    w = k['owner']\n",
    "    osp.send_chan({\"audio_filename\": play_w.value, \"audio_play\": 1, \"audio_alpha\": 1}, 'left')"
   ]
  },
  {
   "cell_type": "code",
   "execution_count": 9,
   "id": "2408b033",
   "metadata": {},
   "outputs": [],
   "source": [
    "# set callbacks\n",
    "play_b.observe(play_cb, names='value')\n",
    "freping.observe(update_osp, names='value')\n",
    "afc.observe(update_osp, names='value')\n",
    "afc_type.observe(update_osp, names='value')\n",
    "for band in range(11):\n",
    "    freping_alpha[band].observe(update_osp, names='value')"
   ]
  },
  {
   "cell_type": "code",
   "execution_count": 10,
   "id": "b7768ae1",
   "metadata": {},
   "outputs": [
    {
     "data": {
      "application/vnd.jupyter.widget-view+json": {
       "model_id": "b7abb52a155740a0815afe3659a488b5",
       "version_major": 2,
       "version_minor": 0
      },
      "text/plain": [
       "VBox(children=(VBox(children=(Checkbox(value=False, description='Freping'), VBox(children=(FloatSlider(value=0…"
      ]
     },
     "metadata": {},
     "output_type": "display_data"
    }
   ],
   "source": [
    "# build really simple GUI\n",
    "play_box = widgets.HBox([play_w, play_b], layout={'border': 'solid 2px'})\n",
    "afc_box = widgets.HBox([afc, afc_type], layout={'border': 'solid 2px'})\n",
    "fsliders = widgets.VBox([freping_alpha[x] for x in range(cur_bands)])\n",
    "left_box = widgets.VBox([freping, fsliders], layout={'border': 'solid 2px'})\n",
    "gui = widgets.VBox([left_box, afc_box, play_box])\n",
    "gui"
   ]
  },
  {
   "cell_type": "code",
   "execution_count": null,
   "id": "d667124c",
   "metadata": {},
   "outputs": [],
   "source": []
  },
  {
   "cell_type": "code",
   "execution_count": null,
   "id": "f830bddc",
   "metadata": {},
   "outputs": [],
   "source": []
  },
  {
   "cell_type": "code",
   "execution_count": null,
   "id": "ba633f7b",
   "metadata": {},
   "outputs": [],
   "source": []
  }
 ],
 "metadata": {
  "kernelspec": {
   "display_name": "Python 3",
   "language": "python",
   "name": "python3"
  },
  "language_info": {
   "codemirror_mode": {
    "name": "ipython",
    "version": 3
   },
   "file_extension": ".py",
   "mimetype": "text/x-python",
   "name": "python",
   "nbconvert_exporter": "python",
   "pygments_lexer": "ipython3",
   "version": "3.8.10"
  }
 },
 "nbformat": 4,
 "nbformat_minor": 5
}
