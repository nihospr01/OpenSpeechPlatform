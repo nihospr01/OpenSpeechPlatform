{
 "cells": [
  {
   "cell_type": "markdown",
   "id": "2648a516",
   "metadata": {},
   "source": [
    "## Test C++ ElevenBand and Python - Phase and Align"
   ]
  },
  {
   "cell_type": "code",
   "execution_count": null,
   "id": "08a90cce",
   "metadata": {},
   "outputs": [],
   "source": [
    "import sys\n",
    "sys.path.append('..')"
   ]
  },
  {
   "cell_type": "code",
   "execution_count": null,
   "id": "9cee35d3",
   "metadata": {},
   "outputs": [],
   "source": [
    "import numpy as np\n",
    "from mlab import generate_sine_waves\n",
    "from rtmha.elevenband import ElevenBand\n",
    "import plotly.graph_objects as go"
   ]
  },
  {
   "cell_type": "code",
   "execution_count": null,
   "id": "e11bccb9",
   "metadata": {},
   "outputs": [],
   "source": [
    "def plot11_response(title, eb):\n",
    "    fig = go.Figure()\n",
    "\n",
    "    # Create x values. 32 samples per millisecond\n",
    "    x = np.array(range(len(eb.get_band(0))))/32.0\n",
    "\n",
    "    for i in range(11):\n",
    "        fig.add_trace(go.Scatter(x=x, \n",
    "                    y=eb.get_band(i), \n",
    "                    opacity=.5,         \n",
    "                    name=f'{eb.freqs[i]} Hz'))\n",
    "\n",
    "    fig.update_layout(title=title,\n",
    "                    xaxis_title='Time(ms)',\n",
    "                    yaxis_title='Output',\n",
    "                    template='plotly_dark')\n",
    "    fig.show()"
   ]
  },
  {
   "cell_type": "code",
   "execution_count": null,
   "id": "716a7348",
   "metadata": {},
   "outputs": [],
   "source": [
    "inp = np.zeros(2048, dtype=np.float32)\n",
    "inp[0] = 1"
   ]
  },
  {
   "cell_type": "code",
   "execution_count": null,
   "id": "695dc923",
   "metadata": {
    "scrolled": false
   },
   "outputs": [],
   "source": [
    "min_phase=False\n",
    "align=False\n",
    "eb = ElevenBand(len(inp), min_phase, align)\n",
    "eb.create_bands(inp)\n",
    "eb.upsample()\n",
    "plot11_response(f\"Impulse Response min_phase={min_phase} align={align}\", eb)"
   ]
  },
  {
   "cell_type": "code",
   "execution_count": null,
   "id": "6d9cdf33",
   "metadata": {
    "scrolled": false
   },
   "outputs": [],
   "source": [
    "min_phase=True\n",
    "align=False\n",
    "eb = ElevenBand(len(inp), min_phase, align)\n",
    "eb.create_bands(inp)\n",
    "eb.upsample()\n",
    "plot11_response(f\"Impulse Response min_phase={min_phase} align={align}\", eb)"
   ]
  },
  {
   "cell_type": "code",
   "execution_count": null,
   "id": "908f6c65",
   "metadata": {},
   "outputs": [],
   "source": [
    "min_phase=False\n",
    "align=True\n",
    "eb = ElevenBand(len(inp), min_phase, align)\n",
    "eb.create_bands(inp)\n",
    "eb.upsample()\n",
    "plot11_response(f\"Impulse Response min_phase={min_phase} align={align}\", eb)"
   ]
  },
  {
   "cell_type": "code",
   "execution_count": null,
   "id": "9532a54e",
   "metadata": {},
   "outputs": [],
   "source": [
    "min_phase=True\n",
    "align=True\n",
    "eb = ElevenBand(len(inp), min_phase, align)\n",
    "eb.create_bands(inp)\n",
    "eb.upsample()\n",
    "plot11_response(f\"Impulse Response min_phase={min_phase} align={align}\", eb)"
   ]
  },
  {
   "cell_type": "markdown",
   "id": "55327b61",
   "metadata": {},
   "source": [
    "Try using the new set_param() method"
   ]
  },
  {
   "cell_type": "code",
   "execution_count": null,
   "id": "7d260ca2",
   "metadata": {},
   "outputs": [],
   "source": [
    "eb.create_bands(inp)\n",
    "eb.upsample()\n",
    "plot11_response(f\"Impulse Response min_phase={min_phase} align={align}\", eb)"
   ]
  },
  {
   "cell_type": "code",
   "execution_count": null,
   "id": "ce70083c",
   "metadata": {},
   "outputs": [],
   "source": []
  }
 ],
 "metadata": {
  "kernelspec": {
   "display_name": "Python 3",
   "language": "python",
   "name": "python3"
  },
  "language_info": {
   "codemirror_mode": {
    "name": "ipython",
    "version": 3
   },
   "file_extension": ".py",
   "mimetype": "text/x-python",
   "name": "python",
   "nbconvert_exporter": "python",
   "pygments_lexer": "ipython3",
   "version": "3.8.10"
  },
  "widgets": {
   "application/vnd.jupyter.widget-state+json": {
    "state": {},
    "version_major": 2,
    "version_minor": 0
   }
  }
 },
 "nbformat": 4,
 "nbformat_minor": 5
}
