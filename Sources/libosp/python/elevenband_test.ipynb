{
 "cells": [
  {
   "cell_type": "markdown",
   "id": "2648a516",
   "metadata": {},
   "source": [
    "## Test C++ ElevenBand and Python bindings\n",
    "\n",
    "Verify output levels = input levels.  Then adjust g50 and verify output levels have increased."
   ]
  },
  {
   "cell_type": "code",
   "execution_count": null,
   "id": "08a90cce",
   "metadata": {},
   "outputs": [],
   "source": [
    "import sys\n",
    "sys.path.append('..')"
   ]
  },
  {
   "cell_type": "code",
   "execution_count": null,
   "id": "ae3594d8",
   "metadata": {},
   "outputs": [],
   "source": [
    "import numpy as np\n",
    "from mlab import generate_sine_waves\n",
    "import plotly.graph_objects as go\n",
    "from rtmha.elevenband import ElevenBand, Wdrc11\n",
    "from IPython.display import Image, display"
   ]
  },
  {
   "cell_type": "code",
   "execution_count": null,
   "id": "1f45d0cd",
   "metadata": {},
   "outputs": [],
   "source": [
    "def plot_up (title, inp, eb, num, name=None):\n",
    "    output = eb.get_band(num)\n",
    "    fig = go.Figure()\n",
    "\n",
    "    # Create x values. 32 samples per millisecond\n",
    "    x = np.array(range(len(inp)))/32.0\n",
    "\n",
    "    fig.add_trace(go.Scatter(x=x,\n",
    "                    y=inp,\n",
    "                    opacity=.5,\n",
    "                    mode='lines+markers',\n",
    "                    name='input'))\n",
    "\n",
    "    fig.add_trace(go.Scatter(x=x,\n",
    "                    y=output,\n",
    "                    opacity=.5,\n",
    "                    mode='lines+markers',\n",
    "                    name='output'))\n",
    "\n",
    "    fig.update_layout(title=title,\n",
    "                    xaxis_title='Time(ms)',\n",
    "                    yaxis_title='Output',\n",
    "                    template='plotly_dark')\n",
    "    if name is None:\n",
    "        fig.show()        \n",
    "    else:\n",
    "        fig.write_image(name, engine=\"kaleido\")\n",
    "        display(Image(name, width=4096))"
   ]
  },
  {
   "cell_type": "code",
   "execution_count": null,
   "id": "d3010ec6",
   "metadata": {
    "scrolled": false
   },
   "outputs": [],
   "source": [
    "eb = ElevenBand(128, True, True)\n",
    "for num, f in enumerate(eb.freqs):\n",
    "    _, inp = generate_sine_waves([f], .1)\n",
    "    eb = ElevenBand(len(inp), True, True)\n",
    "    eb.create_bands(inp)\n",
    "    eb.upsample()\n",
    "    plot_up(f\"Downsampled and Upsampled {f}Hz\", inp, eb, num, f\"{f}out.png\")"
   ]
  },
  {
   "cell_type": "code",
   "execution_count": null,
   "id": "c2915081",
   "metadata": {},
   "outputs": [],
   "source": [
    "g50 = np.ones(11) * 0\n",
    "g80 = np.ones(11) * 0\n",
    "kneelow = np.ones(11) * 45\n",
    "band_mpo = np.ones(11) * 110\n",
    "AT = np.ones(11) * 10\n",
    "RT = np.ones(11) * 100\n",
    "cal_mic = np.ones(11) * 0\n",
    "cal_rec = np.ones(11) * 0\n",
    "min_phase=1\n",
    "align=1"
   ]
  },
  {
   "cell_type": "code",
   "execution_count": null,
   "id": "b3877147",
   "metadata": {},
   "outputs": [],
   "source": [
    "w = Wdrc11(g50, g80, kneelow, band_mpo, AT, RT, cal_mic, cal_rec, len(inp), min_phase, align)\n",
    "w.get_param()"
   ]
  },
  {
   "cell_type": "code",
   "execution_count": null,
   "id": "a4d3369f",
   "metadata": {},
   "outputs": [],
   "source": [
    "g50[0]=10\n",
    "g80[0]=10"
   ]
  },
  {
   "cell_type": "code",
   "execution_count": null,
   "id": "2c8a824a",
   "metadata": {
    "scrolled": false
   },
   "outputs": [],
   "source": [
    "for num, f in enumerate(eb.freqs):\n",
    "    _, inp = generate_sine_waves([f], .1)\n",
    "    g50 = np.ones(11) * 0\n",
    "    g80 = np.ones(11) * 0\n",
    "    g50[num] = 5\n",
    "    g80[num] = 5\n",
    "    w = Wdrc11(g50, g80, kneelow, band_mpo, AT, RT, cal_mic, cal_rec, len(inp), min_phase, align)\n",
    "    w.create_bands(inp)\n",
    "    w.magnitude()\n",
    "    mag = w.get_mag(num)\n",
    "    mag_log = 20 * np.log10(mag) + 96.9897000434\n",
    "    print(mag_log)\n",
    "    w.agc()\n",
    "    w.compress()\n",
    "    w.upsample()\n",
    "    plot_up(f\"Downsampled and Upsampled {f}Hz\", inp, w, num, f\"{f}out.png\")"
   ]
  },
  {
   "cell_type": "code",
   "execution_count": null,
   "id": "926dfac9",
   "metadata": {},
   "outputs": [],
   "source": []
  },
  {
   "cell_type": "code",
   "execution_count": null,
   "id": "695dc923",
   "metadata": {},
   "outputs": [],
   "source": []
  },
  {
   "cell_type": "code",
   "execution_count": null,
   "id": "a164e0fa",
   "metadata": {},
   "outputs": [],
   "source": []
  },
  {
   "cell_type": "code",
   "execution_count": null,
   "id": "c056605d",
   "metadata": {},
   "outputs": [],
   "source": []
  }
 ],
 "metadata": {
  "kernelspec": {
   "display_name": "Python 3",
   "language": "python",
   "name": "python3"
  },
  "language_info": {
   "codemirror_mode": {
    "name": "ipython",
    "version": 3
   },
   "file_extension": ".py",
   "mimetype": "text/x-python",
   "name": "python",
   "nbconvert_exporter": "python",
   "pygments_lexer": "ipython3",
   "version": "3.8.10"
  }
 },
 "nbformat": 4,
 "nbformat_minor": 5
}
