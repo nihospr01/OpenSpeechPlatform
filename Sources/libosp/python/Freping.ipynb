{
 "cells": [
  {
   "cell_type": "markdown",
   "id": "0d0ad206",
   "metadata": {},
   "source": [
    "# Freping Demo"
   ]
  },
  {
   "cell_type": "code",
   "execution_count": null,
   "id": "8f8b4d9b",
   "metadata": {},
   "outputs": [],
   "source": [
    "from rtmha.freping import Freping\n",
    "import numpy as np\n",
    "import plotly.graph_objects as go\n",
    "from mlab import generate_sine_waves\n",
    "import ipywidgets as widgets"
   ]
  },
  {
   "cell_type": "code",
   "execution_count": null,
   "id": "76ca8cc6",
   "metadata": {},
   "outputs": [],
   "source": [
    "fig = go.FigureWidget()\n",
    "\n",
    "def do_freping(k=None):\n",
    "    x, y = generate_sine_waves([freqw.value])\n",
    "    f = Freping(int(lenw.value), 32, alpha.value, True)\n",
    "    f_out=[]\n",
    "    for d in [y[x:x+32] for x in range(0, len(y), 32)]:\n",
    "        f_out = np.append(f_out, f.proc(d))\n",
    "    plot_fft(fig, f'Freping {freqw.value}Hz alpha={alpha.value}', y, f_out)"
   ]
  },
  {
   "cell_type": "code",
   "execution_count": null,
   "id": "8e610434",
   "metadata": {},
   "outputs": [],
   "source": [
    "def plot_fft(fig, title, out1, out2, update=False):\n",
    "    ftrans = np.abs(np.fft.fft(out1)/len(out1))\n",
    "    ftrans2 = np.abs(np.fft.fft(out2)/len(out2))\n",
    "    if not plot_fft.first:\n",
    "        with fig.batch_update():\n",
    "            fig.data[0].y = ftrans\n",
    "            fig.data[1].y = ftrans2\n",
    "            fig.update_layout(title=title)\n",
    "            return\n",
    "        \n",
    "    plot_fft.first = False\n",
    "    outlen = len(out1)\n",
    "    values = np.arange(int(outlen/2))\n",
    "    period = outlen/32000\n",
    "    frequencies = values/period\n",
    "\n",
    "    fig.add_trace(go.Scatter(x=frequencies, line_color='green', opacity=0.4, name='orig', y=ftrans))\n",
    "    fig.add_trace(go.Scatter(x=frequencies, opacity=0.8, name='frep', y=ftrans2))\n",
    "\n",
    "    fig.update_layout(title=title,\n",
    "                    xaxis_title='Frequency',\n",
    "                    yaxis_title='Amplitude',\n",
    "                    template='plotly_white')\n",
    "plot_fft.first = True"
   ]
  },
  {
   "cell_type": "code",
   "execution_count": null,
   "id": "cd2404e0",
   "metadata": {},
   "outputs": [],
   "source": [
    "alpha = widgets.FloatSlider(\n",
    "    value=0,\n",
    "    min=-.5,\n",
    "    max=.5,\n",
    "    step=0.01,\n",
    "    description='Alpha:',\n",
    "    disabled=False,\n",
    "    continuous_update=True,\n",
    "    orientation='horizontal',\n",
    "    readout=True,\n",
    "    readout_format='.2f'\n",
    ")"
   ]
  },
  {
   "cell_type": "code",
   "execution_count": null,
   "id": "dbeb9e65",
   "metadata": {},
   "outputs": [],
   "source": [
    "freqw = widgets.IntSlider(\n",
    "    value=4000,\n",
    "    min=200,\n",
    "    max=8000,\n",
    "    step=10,\n",
    "    description='Freq:',\n",
    "    disabled=False,\n",
    "    continuous_update=True,\n",
    "    orientation='horizontal',\n",
    "    readout=True,\n",
    "    readout_format='d'\n",
    ")"
   ]
  },
  {
   "cell_type": "code",
   "execution_count": null,
   "id": "17b4c597",
   "metadata": {},
   "outputs": [],
   "source": [
    "lenw = widgets.Dropdown(\n",
    "    options=['64', '96', '128', '160', '192'],\n",
    "    value='64',\n",
    "    description='Win Len:',\n",
    "    disabled=False,\n",
    ")"
   ]
  },
  {
   "cell_type": "code",
   "execution_count": null,
   "id": "b7768ae1",
   "metadata": {},
   "outputs": [],
   "source": [
    "controls = widgets.HBox([lenw, freqw, alpha])\n",
    "widgets.VBox([fig, controls])"
   ]
  },
  {
   "cell_type": "code",
   "execution_count": null,
   "id": "2408b033",
   "metadata": {},
   "outputs": [],
   "source": [
    "alpha.observe(do_freping, names='value')\n",
    "freqw.observe(do_freping, names='value')\n",
    "lenw.observe(do_freping, names='value')\n",
    "do_freping()"
   ]
  }
 ],
 "metadata": {
  "kernelspec": {
   "display_name": "Python 3",
   "language": "python",
   "name": "python3"
  },
  "language_info": {
   "codemirror_mode": {
    "name": "ipython",
    "version": 3
   },
   "file_extension": ".py",
   "mimetype": "text/x-python",
   "name": "python",
   "nbconvert_exporter": "python",
   "pygments_lexer": "ipython3",
   "version": "3.8.10"
  }
 },
 "nbformat": 4,
 "nbformat_minor": 5
}
