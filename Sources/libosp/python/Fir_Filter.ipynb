{
 "cells": [
  {
   "cell_type": "code",
   "execution_count": null,
   "id": "17248050",
   "metadata": {},
   "outputs": [],
   "source": [
    "import sys\n",
    "sys.path.append('..')"
   ]
  },
  {
   "cell_type": "code",
   "execution_count": null,
   "id": "a43909a6",
   "metadata": {},
   "outputs": [],
   "source": [
    "import numpy as np\n",
    "from rtmha.elevenband import elevenband_taps_min\n",
    "import plotly.graph_objects as go"
   ]
  },
  {
   "cell_type": "code",
   "execution_count": null,
   "id": "95d5be92",
   "metadata": {},
   "outputs": [],
   "source": [
    "# Band 0 taps from 11-band multirate filter\n",
    "taps = elevenband_taps_min[0]"
   ]
  },
  {
   "cell_type": "markdown",
   "id": "638c4a57",
   "metadata": {},
   "source": [
    "## Plotting the Predicted Response"
   ]
  },
  {
   "cell_type": "code",
   "execution_count": null,
   "id": "f7e1af9a",
   "metadata": {},
   "outputs": [],
   "source": [
    "# this is the band 0 filter, so the rate is downsampled to 1/16\n",
    "sample_rate = 32000 \n",
    "down_rate=sample_rate / 16 \n",
    "nyq_rate=down_rate / 2 "
   ]
  },
  {
   "cell_type": "code",
   "execution_count": null,
   "id": "a34e6054",
   "metadata": {},
   "outputs": [],
   "source": [
    "# Use scipy freqz to compute the expected performance\n",
    "from scipy.signal import freqz\n",
    "w, h = freqz(taps, worN=8000)"
   ]
  },
  {
   "cell_type": "code",
   "execution_count": null,
   "id": "20d8705e",
   "metadata": {},
   "outputs": [],
   "source": [
    "fig = go.Figure()\n",
    "\n",
    "fig.add_trace(go.Scatter(x=(w/np.pi)*nyq_rate,\n",
    "                y=np.abs(h),\n",
    "                opacity=.5,\n",
    "                mode='lines'))\n",
    "\n",
    "fig.update_layout(title='Frequency Response',\n",
    "                xaxis_title='Frequency (Hz)',\n",
    "                yaxis_title='Gain',\n",
    "                template='plotly_dark')\n",
    "fig.show()"
   ]
  },
  {
   "cell_type": "code",
   "execution_count": null,
   "id": "d681f1a0",
   "metadata": {},
   "outputs": [],
   "source": [
    "def generate_sine_waves(freq_list, duration=1, sample_rate=32000):\n",
    "    \"\"\"Generates a signal with multiple sine waves\n",
    "\n",
    "    Args:\n",
    "        freq_list: List of frequencies\n",
    "        duration: signal length in seconds (default 1)\n",
    "        sample_rate: sample rate in Hz (default 32000)\n",
    "\n",
    "    Returns:\n",
    "        (t, y): t is time. y is value in range [-1,1]\n",
    "    \"\"\"\n",
    "    x = np.linspace(0, duration, int(sample_rate * duration), endpoint=False)\n",
    "    y = np.zeros(len(x))\n",
    "    for freq in freq_list:\n",
    "        frequencies = x * freq\n",
    "        y += np.sin((2 * np.pi) * frequencies)\n",
    "    y /= len(freq_list)   # normalize\n",
    "    return x, y"
   ]
  },
  {
   "cell_type": "code",
   "execution_count": null,
   "id": "e74e61ac",
   "metadata": {},
   "outputs": [],
   "source": [
    "def plot_fft(title, output):\n",
    "\n",
    "    ftrans = np.fft.fft(output)/len(output)\n",
    "    outlen = len(output)\n",
    "    values = np.arange(int(outlen/2))\n",
    "    period = 16*outlen/32000\n",
    "    frequencies = values/period\n",
    "\n",
    "    fig = go.Figure()\n",
    "    fig.add_trace(go.Scatter(x=frequencies, \n",
    "                  y=np.abs(ftrans)))\n",
    "\n",
    "    fig.update_layout(title=title,\n",
    "                    xaxis_title='Frequency',\n",
    "                    yaxis_title='Amplitude',\n",
    "                    template='plotly_dark')\n",
    "    fig.show()"
   ]
  },
  {
   "cell_type": "code",
   "execution_count": null,
   "id": "232c2134",
   "metadata": {},
   "outputs": [],
   "source": [
    "x, y = generate_sine_waves(np.linspace(50,500,10), sample_rate=down_rate)"
   ]
  },
  {
   "cell_type": "code",
   "execution_count": null,
   "id": "b72c1bcc",
   "metadata": {},
   "outputs": [],
   "source": [
    "from rtmha.filter import FirFilter"
   ]
  },
  {
   "cell_type": "code",
   "execution_count": null,
   "id": "e8209a81",
   "metadata": {},
   "outputs": [],
   "source": [
    "f = FirFilter(taps, len(y))\n",
    "res = f.filter(y)\n",
    "res.shape"
   ]
  },
  {
   "cell_type": "code",
   "execution_count": null,
   "id": "34454a1b",
   "metadata": {},
   "outputs": [],
   "source": [
    "plot_fft('FFT', y)\n",
    "plot_fft('FFT', res)"
   ]
  },
  {
   "cell_type": "code",
   "execution_count": null,
   "id": "842783c2",
   "metadata": {
    "scrolled": false
   },
   "outputs": [],
   "source": [
    "fig = go.Figure()\n",
    "\n",
    "fig.add_trace(go.Scatter(x=x,\n",
    "                y=y,\n",
    "                opacity=.5,\n",
    "                mode='lines',\n",
    "                name='input',))\n",
    "\n",
    "fig.add_trace(go.Scatter(x=x,\n",
    "                y=res,\n",
    "                opacity=.5,\n",
    "                mode='lines',\n",
    "                name='output'))\n",
    "\n",
    "fig.update_layout(title='Filtered Output',\n",
    "                xaxis_title='Time(ms)',\n",
    "                yaxis_title='Amplitude',\n",
    "                template='plotly_dark')\n",
    "fig.show()"
   ]
  },
  {
   "cell_type": "code",
   "execution_count": null,
   "id": "32c47874",
   "metadata": {},
   "outputs": [],
   "source": [
    "x, y = generate_sine_waves(np.linspace(50,500,10), duration=1000, sample_rate=down_rate)\n",
    "f = FirFilter(taps, len(y))"
   ]
  },
  {
   "cell_type": "code",
   "execution_count": null,
   "id": "9f5703cb",
   "metadata": {},
   "outputs": [],
   "source": [
    "%%timeit\n",
    "res = f.filter(y)"
   ]
  },
  {
   "cell_type": "code",
   "execution_count": null,
   "id": "65c77174",
   "metadata": {},
   "outputs": [],
   "source": [
    "# check if float32 is faster\n",
    "y = y.astype(np.float32)\n",
    "y.dtype"
   ]
  },
  {
   "cell_type": "code",
   "execution_count": null,
   "id": "df9f3095",
   "metadata": {},
   "outputs": [],
   "source": [
    "%%timeit\n",
    "res = f.filter(y)"
   ]
  },
  {
   "cell_type": "code",
   "execution_count": null,
   "id": "71208c9a",
   "metadata": {},
   "outputs": [],
   "source": [
    "# now try a short array\n",
    "y = np.ones(32)"
   ]
  },
  {
   "cell_type": "code",
   "execution_count": null,
   "id": "daab58a1",
   "metadata": {},
   "outputs": [],
   "source": [
    "%%timeit\n",
    "res = f.filter(y)"
   ]
  },
  {
   "cell_type": "code",
   "execution_count": null,
   "id": "7299f055",
   "metadata": {},
   "outputs": [],
   "source": [
    "# check if float32 is faster\n",
    "y = y.astype(np.float32)\n",
    "y.dtype"
   ]
  },
  {
   "cell_type": "code",
   "execution_count": null,
   "id": "dc0ef745",
   "metadata": {},
   "outputs": [],
   "source": [
    "%%timeit\n",
    "res = f.filter(y)"
   ]
  },
  {
   "cell_type": "markdown",
   "id": "cd00df5f",
   "metadata": {},
   "source": [
    "## Testing Splitting the Data into Small Packets"
   ]
  },
  {
   "cell_type": "code",
   "execution_count": null,
   "id": "11695460",
   "metadata": {},
   "outputs": [],
   "source": [
    "x, y = generate_sine_waves(np.linspace(50,500,10), sample_rate=down_rate)\n",
    "f = FirFilter(taps, len(y))\n",
    "res = f.filter(y)"
   ]
  },
  {
   "cell_type": "code",
   "execution_count": null,
   "id": "ca9de405",
   "metadata": {
    "scrolled": true
   },
   "outputs": [],
   "source": [
    "f = FirFilter(taps, 32)\n",
    "res2 = np.empty((0),dtype=np.float32)\n",
    "\n",
    "for start in range(0,len(y), 10):\n",
    "    res2 = np.append(res2, f.filter(y[start:start+10]))"
   ]
  },
  {
   "cell_type": "code",
   "execution_count": null,
   "id": "0f88d526",
   "metadata": {},
   "outputs": [],
   "source": [
    "np.all(res == res2)"
   ]
  }
 ],
 "metadata": {
  "kernelspec": {
   "display_name": "Python 3",
   "language": "python",
   "name": "python3"
  },
  "language_info": {
   "codemirror_mode": {
    "name": "ipython",
    "version": 3
   },
   "file_extension": ".py",
   "mimetype": "text/x-python",
   "name": "python",
   "nbconvert_exporter": "python",
   "pygments_lexer": "ipython3",
   "version": "3.8.10"
  }
 },
 "nbformat": 4,
 "nbformat_minor": 5
}
