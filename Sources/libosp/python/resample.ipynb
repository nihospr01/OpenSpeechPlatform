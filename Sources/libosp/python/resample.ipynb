{
 "cells": [
  {
   "cell_type": "code",
   "execution_count": null,
   "id": "753e7941",
   "metadata": {},
   "outputs": [],
   "source": [
    "# make Jupyter use the whole width of the browser\n",
    "from IPython.display import Image, display, HTML\n",
    "display(HTML(\"<style>.container { width:100% !important; }</style>\"))"
   ]
  },
  {
   "cell_type": "markdown",
   "id": "cd858a83",
   "metadata": {},
   "source": [
    "# Demonstrate Python Resample Class"
   ]
  },
  {
   "cell_type": "code",
   "execution_count": null,
   "id": "113ea5fd",
   "metadata": {
    "scrolled": true
   },
   "outputs": [],
   "source": [
    "import numpy as np\n",
    "import plotly.graph_objects as go\n",
    "from mlab import generate_sine_waves\n",
    "from rtmha.elevenband import hb1_lin, hb1_min\n",
    "from rtmha.resample import  Resample"
   ]
  },
  {
   "cell_type": "code",
   "execution_count": null,
   "id": "6ed9182b",
   "metadata": {},
   "outputs": [],
   "source": [
    "def plot_resamp (title, inp, out, rate):\n",
    "    fig = go.Figure()\n",
    "    x = np.array(range(len(inp)))/32.0\n",
    "\n",
    "    fig.add_trace(go.Scatter(x=x,\n",
    "                    y=inp,\n",
    "                    opacity=.5,\n",
    "                    mode='lines+markers',\n",
    "                    name='input'))\n",
    "    \n",
    "    x = rate * np.array(range(len(out)))/32.0\n",
    "\n",
    "    fig.add_trace(go.Scatter(x=x,\n",
    "                    y=out,\n",
    "                    opacity=.5,\n",
    "                    mode='lines+markers',\n",
    "                    name='Resampled'))\n",
    "\n",
    "    fig.update_layout(title=title,\n",
    "                    xaxis_title='Time(ms)',\n",
    "                    yaxis_title='Output',\n",
    "                    template='plotly_dark')\n",
    "    fig.show()"
   ]
  },
  {
   "cell_type": "code",
   "execution_count": null,
   "id": "6add3e7c",
   "metadata": {
    "scrolled": false
   },
   "outputs": [],
   "source": [
    "freq=350\n",
    "x, inp = generate_sine_waves([freq], .01)\n",
    "\n",
    "r = Resample(hb1_min,len(inp), 2, 1)\n",
    "out = r.resamp(inp)\n",
    "\n",
    "plot_resamp(f'2/1 Resamp {freq} Hz MinPhase', inp, 2*out, .5)"
   ]
  },
  {
   "cell_type": "code",
   "execution_count": null,
   "id": "72801819",
   "metadata": {},
   "outputs": [],
   "source": [
    "r = Resample(hb1_lin,len(inp), 2, 1)\n",
    "out = r.resamp(inp)\n",
    "\n",
    "plot_resamp(f'2/1 Resamp {freq} Hz Linear Phase', inp, 2*out, .5)"
   ]
  },
  {
   "cell_type": "code",
   "execution_count": null,
   "id": "695dc923",
   "metadata": {},
   "outputs": [],
   "source": [
    "hb = Resample(hb1_lin, len(inp), 2, 1)\n",
    "out_2=[]\n",
    "for sinp in [inp[x:x+32] for x in range(0, len(inp), 32)]:\n",
    "    out_2 = np.append(out_2, hb.resamp(sinp))\n",
    "np.array_equal(out, out_2)"
   ]
  },
  {
   "cell_type": "code",
   "execution_count": null,
   "id": "965bc377",
   "metadata": {},
   "outputs": [],
   "source": [
    "freq=500\n",
    "x, inp = generate_sine_waves([freq], .01)\n",
    "\n",
    "r = Resample(hb1_min,len(inp), 1, 2)\n",
    "out = r.resamp(inp)\n",
    "\n",
    "plot_resamp(f'1/2 Resamp {freq} Hz', inp, out, 2)"
   ]
  },
  {
   "cell_type": "code",
   "execution_count": null,
   "id": "bf300bd5",
   "metadata": {},
   "outputs": [],
   "source": [
    "freq=700\n",
    "x, inp = generate_sine_waves([freq], .01)\n",
    "\n",
    "r = Resample(hb1_min,len(inp), 1, 3)\n",
    "out = r.resamp(inp)\n",
    "\n",
    "plot_resamp(f'1/3 Resamp {freq} Hz', inp, out, 3)"
   ]
  },
  {
   "cell_type": "code",
   "execution_count": null,
   "id": "031b9778",
   "metadata": {},
   "outputs": [],
   "source": [
    "freq=700\n",
    "x, inp = generate_sine_waves([freq], .01)\n",
    "\n",
    "r = Resample(hb1_lin,len(inp), 2, 3)\n",
    "out = r.resamp(inp)\n",
    "\n",
    "plot_resamp(f'2/3 Resamp {freq} Hz', inp, 2*out, 3/2)"
   ]
  },
  {
   "cell_type": "code",
   "execution_count": null,
   "id": "cececf4d",
   "metadata": {},
   "outputs": [],
   "source": [
    "freq=700\n",
    "x, inp = generate_sine_waves([freq], .01)\n",
    "\n",
    "r = Resample(hb1_lin,len(inp), 3, 2)\n",
    "out = r.resamp(inp)\n",
    "\n",
    "plot_resamp(f'3/2 Resamp {freq} Hz', inp, 3*out, 2/3)"
   ]
  }
 ],
 "metadata": {
  "kernelspec": {
   "display_name": "Python 3",
   "language": "python",
   "name": "python3"
  },
  "language_info": {
   "codemirror_mode": {
    "name": "ipython",
    "version": 3
   },
   "file_extension": ".py",
   "mimetype": "text/x-python",
   "name": "python",
   "nbconvert_exporter": "python",
   "pygments_lexer": "ipython3",
   "version": "3.8.10"
  }
 },
 "nbformat": 4,
 "nbformat_minor": 5
}
