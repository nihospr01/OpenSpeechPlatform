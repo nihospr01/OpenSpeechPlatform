{
 "cells": [
  {
   "cell_type": "markdown",
   "id": "2648a516",
   "metadata": {},
   "source": [
    "## Test C++ ElevenBand and Python bindings"
   ]
  },
  {
   "cell_type": "code",
   "execution_count": null,
   "id": "08a90cce",
   "metadata": {},
   "outputs": [],
   "source": [
    "import sys\n",
    "sys.path.append('..')"
   ]
  },
  {
   "cell_type": "code",
   "execution_count": null,
   "id": "9cee35d3",
   "metadata": {},
   "outputs": [],
   "source": [
    "import numpy as np\n",
    "from mlab import generate_sine_waves\n",
    "import plotly.graph_objects as go"
   ]
  },
  {
   "cell_type": "code",
   "execution_count": null,
   "id": "ae3594d8",
   "metadata": {},
   "outputs": [],
   "source": [
    "from rtmha.elevenband import ElevenBand"
   ]
  },
  {
   "cell_type": "code",
   "execution_count": null,
   "id": "113ea5fd",
   "metadata": {},
   "outputs": [],
   "source": [
    "help(ElevenBand)"
   ]
  },
  {
   "cell_type": "code",
   "execution_count": null,
   "id": "716a7348",
   "metadata": {},
   "outputs": [],
   "source": [
    "_, inp = generate_sine_waves([100], .1)"
   ]
  },
  {
   "cell_type": "code",
   "execution_count": null,
   "id": "b99ba037",
   "metadata": {},
   "outputs": [],
   "source": [
    "eb = ElevenBand(len(inp), True, False)\n",
    "eb.create_bands(inp)"
   ]
  },
  {
   "cell_type": "code",
   "execution_count": null,
   "id": "67bfbc4d",
   "metadata": {},
   "outputs": [],
   "source": [
    "output = eb.get_dband(0)"
   ]
  },
  {
   "cell_type": "code",
   "execution_count": null,
   "id": "600af7b6",
   "metadata": {},
   "outputs": [],
   "source": [
    "len(eb.get_dband(10))"
   ]
  },
  {
   "cell_type": "code",
   "execution_count": null,
   "id": "7458928c",
   "metadata": {},
   "outputs": [],
   "source": [
    "fig = go.Figure()\n",
    "\n",
    "# Create x values. 32 samples per millisecond\n",
    "x = np.array(range(len(inp)))/32.0\n",
    "\n",
    "fig.add_trace(go.Scatter(x=x,\n",
    "                y=inp,\n",
    "                opacity=.5,\n",
    "                mode='markers',\n",
    "                name='input'))\n",
    "\n",
    "fig.add_trace(go.Scatter(x=x*16,\n",
    "                y=output/16,\n",
    "                opacity=.5,\n",
    "                mode='markers',\n",
    "                name='output'))\n",
    "\n",
    "fig.update_layout(title='Downsampling',\n",
    "                xaxis_title='Time(ms)',\n",
    "                yaxis_title='Output',\n",
    "                template='plotly_dark')\n",
    "fig.show()"
   ]
  },
  {
   "cell_type": "code",
   "execution_count": null,
   "id": "3c4c0112",
   "metadata": {},
   "outputs": [],
   "source": [
    "eb.upsample()\n",
    "output = eb.get_band(0)"
   ]
  },
  {
   "cell_type": "code",
   "execution_count": null,
   "id": "5011e7c2",
   "metadata": {},
   "outputs": [],
   "source": [
    "fig = go.Figure()\n",
    "\n",
    "# Create x values. 32 samples per millisecond\n",
    "x = np.array(range(len(inp)))/32.0\n",
    "\n",
    "fig.add_trace(go.Scatter(x=x,\n",
    "                y=inp,\n",
    "                opacity=.5,\n",
    "                mode='markers',\n",
    "                name='input'))\n",
    "\n",
    "fig.add_trace(go.Scatter(x=x,\n",
    "                y=output,\n",
    "                opacity=.5,\n",
    "                mode='markers',\n",
    "                name='output'))\n",
    "\n",
    "fig.update_layout(title='Upsampling',\n",
    "                xaxis_title='Time(ms)',\n",
    "                yaxis_title='Output',\n",
    "                template='plotly_dark')\n",
    "fig.show()"
   ]
  },
  {
   "cell_type": "code",
   "execution_count": null,
   "id": "6ed9182b",
   "metadata": {},
   "outputs": [],
   "source": [
    "def plot_down (title, inp, eb, num):\n",
    "    output = eb.get_dband(num)\n",
    "    fig = go.Figure()\n",
    "\n",
    "    # Create x values. 32 samples per millisecond\n",
    "    x = np.array(range(len(inp)))/32.0\n",
    "\n",
    "    fig.add_trace(go.Scatter(x=x,\n",
    "                    y=inp,\n",
    "                    opacity=.5,\n",
    "                    mode='lines+markers',\n",
    "                    name='input'))\n",
    "    x = np.array(range(len(output)))/32.0\n",
    "\n",
    "    fig.add_trace(go.Scatter(x=x*eb.rate[num],\n",
    "                    y=output/eb.rate[num],\n",
    "                    opacity=.5,\n",
    "                    mode='lines+markers',\n",
    "                    name='output'))\n",
    "\n",
    "    fig.update_layout(title=title,\n",
    "                    xaxis_title='Time(ms)',\n",
    "                    yaxis_title='Output',\n",
    "                    template='plotly_dark')\n",
    "    fig.show()"
   ]
  },
  {
   "cell_type": "code",
   "execution_count": null,
   "id": "1f45d0cd",
   "metadata": {},
   "outputs": [],
   "source": [
    "def plot_up (title, inp, eb, num):\n",
    "    output = eb.get_band(num)\n",
    "    fig = go.Figure()\n",
    "\n",
    "    # Create x values. 32 samples per millisecond\n",
    "    x = np.array(range(len(inp)))/32.0\n",
    "\n",
    "    fig.add_trace(go.Scatter(x=x,\n",
    "                    y=inp,\n",
    "                    opacity=.5,\n",
    "                    mode='lines+markers',\n",
    "                    name='input'))\n",
    "\n",
    "    fig.add_trace(go.Scatter(x=x,\n",
    "                    y=output,\n",
    "                    opacity=.5,\n",
    "                    mode='lines+markers',\n",
    "                    name='output'))\n",
    "\n",
    "    fig.update_layout(title=title,\n",
    "                    xaxis_title='Time(ms)',\n",
    "                    yaxis_title='Output',\n",
    "                    template='plotly_dark')\n",
    "    fig.show()"
   ]
  },
  {
   "cell_type": "code",
   "execution_count": null,
   "id": "39cbda5b",
   "metadata": {
    "scrolled": false
   },
   "outputs": [],
   "source": [
    "for num, f in enumerate(eb.freqs):\n",
    "    _, inp = generate_sine_waves([f], .1)\n",
    "    eb.create_bands(inp)\n",
    "#     plot_down(f\"Downsampled {f}Hz\", inp, eb, num)\n",
    "    plot_up(f, inp, eb, num)\n",
    "    "
   ]
  },
  {
   "cell_type": "code",
   "execution_count": null,
   "id": "d3010ec6",
   "metadata": {
    "scrolled": false
   },
   "outputs": [],
   "source": [
    "for num, f in enumerate(eb.freqs):\n",
    "    _, inp = generate_sine_waves([f], .1)\n",
    "    eb.create_bands(inp)\n",
    "    eb.upsample()\n",
    "    plot_up(f\"Upsampled {f}Hz\", inp, eb, num)"
   ]
  },
  {
   "cell_type": "code",
   "execution_count": null,
   "id": "695dc923",
   "metadata": {},
   "outputs": [],
   "source": []
  }
 ],
 "metadata": {
  "kernelspec": {
   "display_name": "Python 3",
   "language": "python",
   "name": "python3"
  },
  "language_info": {
   "codemirror_mode": {
    "name": "ipython",
    "version": 3
   },
   "file_extension": ".py",
   "mimetype": "text/x-python",
   "name": "python",
   "nbconvert_exporter": "python",
   "pygments_lexer": "ipython3",
   "version": "3.8.10"
  }
 },
 "nbformat": 4,
 "nbformat_minor": 5
}
