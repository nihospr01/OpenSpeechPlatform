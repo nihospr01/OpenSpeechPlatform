{
 "cells": [
  {
   "cell_type": "markdown",
   "id": "4b4b6adb",
   "metadata": {},
   "source": [
    "# Jupyter OSP Notebooks\n",
    "\n",
    "The notebooks in this directory are divided into three classes:\n",
    "\n",
    "1. [Notebooks that control (or provide a GUI for) a running OSP Process](osp/README.ipynb)\n",
    "2. [Notebooks used for development or testing](test) (Not recommended for normal users)\n",
    "3. Notebooks that use the RTMHA python bindings.  These are located in the current directory and are described below.\n",
    "\n",
    "## What are the RTMHA Python bindings?\n",
    "\n",
    "These allow developers to use python to create and interact with the internal RTMHA algorithms.  For example, you can use FIR filters, resample a signal, or use the 11-band multirate filterbank or WDRC to process an audio signal.\n",
    "\n",
    "## Why Use Them?\n",
    "\n",
    "1. Education.  \n",
    "\n",
    "## How Do You Get The RTMHA Python Bndings?\n",
    "\n",
    "We do not yet distribute these through PyPI.  Instead you must build the python bindings from the libosp directory.  The Cython package is required.  After you install it, simply type \"make python\"\n",
    "\n",
    "```\n",
    "libosp> make python\n",
    "python3 setup.py build_ext --inplace\n",
    "Compiling rtmha/freping.pyx because it changed.\n",
    "Compiling rtmha/filter.pyx because it changed.\n",
    "Compiling rtmha/resample.pyx because it changed.\n",
    "Compiling rtmha/elevenband.pyx because it changed.\n",
    "[1/4] Cythonizing rtmha/elevenband.pyx\n",
    "...\n",
    "```\n",
    "\n",
    "Cython generates C++ that is compiled into four python modules:\n",
    "\n",
    "```\n",
    "ls -l rtmha/*.so\n",
    "-rwxrwxr-x 1 mmh mmh 15834664 Jul  6 16:49 rtmha/elevenband.cpython-38-x86_64-linux-gnu.so\n",
    "-rwxrwxr-x 1 mmh mmh  1442040 Jul  6 16:49 rtmha/filter.cpython-38-x86_64-linux-gnu.so\n",
    "-rwxrwxr-x 1 mmh mmh   780728 Jul  6 16:49 rtmha/freping.cpython-38-x86_64-linux-gnu.so\n",
    "-rwxrwxr-x 1 mmh mmh   676800 Jul  6 16:49 rtmha/resample.cpython-38-x86_64-linux-gnu.so\n",
    "```\n",
    "\n",
    "\n",
    "You can load these modules into ipython or Jupyter.  The *help()* command will show docs.\n",
    "\n",
    "```\n",
    "In [9]: import rtmha.freping\n",
    "In [10]: help(rtmha.freping)\n",
    "```\n",
    "\n",
    "Docs are still in development and may not be complete.  The Jupyter notebooks in this directroy may be helpful examples."
   ]
  }
 ],
 "metadata": {
  "kernelspec": {
   "display_name": "Python 3",
   "language": "python",
   "name": "python3"
  },
  "language_info": {
   "codemirror_mode": {
    "name": "ipython",
    "version": 3
   },
   "file_extension": ".py",
   "mimetype": "text/x-python",
   "name": "python",
   "nbconvert_exporter": "python",
   "pygments_lexer": "ipython3",
   "version": "3.8.10"
  }
 },
 "nbformat": 4,
 "nbformat_minor": 5
}
